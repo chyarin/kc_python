{
 "cells": [
  {
   "cell_type": "markdown",
   "id": "1bb87a8e",
   "metadata": {},
   "source": [
    "# Лекция 1\n",
    "## Цикл FOR"
   ]
  },
  {
   "cell_type": "code",
   "execution_count": 2,
   "id": "59addf3d",
   "metadata": {},
   "outputs": [],
   "source": [
    "#Объявление переменных\n",
    "my_list = [2, 4, 6, 10, 24, 76]\n",
    "my_list_2 = []"
   ]
  },
  {
   "cell_type": "code",
   "execution_count": 3,
   "id": "0e12f4ef",
   "metadata": {},
   "outputs": [
    {
     "name": "stdout",
     "output_type": "stream",
     "text": [
      "[1, 3, 5, 9, 23, 75]\n"
     ]
    }
   ],
   "source": [
    "#Пример 1\n",
    "for i in my_list:\n",
    "    new_element = i - 1\n",
    "    my_list_2.append(new_element)\n",
    "print(my_list_2)"
   ]
  },
  {
   "cell_type": "code",
   "execution_count": 4,
   "id": "4acda859",
   "metadata": {},
   "outputs": [],
   "source": [
    "#Объявление переменных\n",
    "my_list = [2, 4, 6, 10, 24, 76]\n",
    "my_list_2 = []"
   ]
  },
  {
   "cell_type": "code",
   "execution_count": 5,
   "id": "6c0dcfd6",
   "metadata": {},
   "outputs": [
    {
     "name": "stdout",
     "output_type": "stream",
     "text": [
      "[1]\n",
      "[1, 3]\n",
      "[1, 3, 5]\n",
      "[1, 3, 5, 9]\n",
      "[1, 3, 5, 9, 25]\n",
      "[1, 3, 5, 9, 25, 77]\n"
     ]
    }
   ],
   "source": [
    "#Пример 2\n",
    "for i in my_list:\n",
    "    if i > 10:\n",
    "        my_list_2.append(i + 1)\n",
    "    else:\n",
    "        my_list_2.append(i - 1)\n",
    "    print(my_list_2)"
   ]
  },
  {
   "cell_type": "code",
   "execution_count": 10,
   "id": "0fb2309d",
   "metadata": {},
   "outputs": [],
   "source": [
    "#Объявление переменных\n",
    "my_list = [[4, 8], [12, 20], [76, 1, 10]]\n",
    "my_list_2 = []"
   ]
  },
  {
   "cell_type": "code",
   "execution_count": 11,
   "id": "b69abd3b",
   "metadata": {},
   "outputs": [
    {
     "name": "stdout",
     "output_type": "stream",
     "text": [
      "[4, 8, 12, 20, 76, 1, 10]\n"
     ]
    }
   ],
   "source": [
    "#Пример 3 Расшивка вложенного списка\n",
    "for inner_list in my_list:\n",
    "    for j in inner_list:\n",
    "        my_list_2.append(j)\n",
    "print(my_list_2)"
   ]
  },
  {
   "cell_type": "code",
   "execution_count": 1,
   "id": "f2b6f63b",
   "metadata": {},
   "outputs": [],
   "source": [
    "#Объявление переменных\n",
    "my_name = 'Anatoly'"
   ]
  },
  {
   "cell_type": "code",
   "execution_count": 2,
   "id": "6a38a7a7",
   "metadata": {},
   "outputs": [
    {
     "name": "stdout",
     "output_type": "stream",
     "text": [
      "I've found 'O'\n"
     ]
    }
   ],
   "source": [
    "#Циклы в строках\n",
    "for s in my_name:\n",
    "    if s == 'o':\n",
    "        print(\"I've found 'O'\")"
   ]
  },
  {
   "cell_type": "code",
   "execution_count": 3,
   "id": "2da943f4",
   "metadata": {},
   "outputs": [],
   "source": [
    "#Объявление переменных\n",
    "my_dict = {'course': 'Python', 'n_lessons': 122}"
   ]
  },
  {
   "cell_type": "code",
   "execution_count": 4,
   "id": "12514d53",
   "metadata": {
    "scrolled": true
   },
   "outputs": [
    {
     "name": "stdout",
     "output_type": "stream",
     "text": [
      "('course', 'Python')\n",
      "('n_lessons', 122)\n"
     ]
    }
   ],
   "source": [
    "#Циклы в словарях\n",
    "for dict_key in my_dict:\n",
    "    dict_val = my_dict[dict_key]\n",
    "    print((dict_key, dict_val))"
   ]
  },
  {
   "cell_type": "code",
   "execution_count": 8,
   "id": "272d814a",
   "metadata": {},
   "outputs": [
    {
     "name": "stdout",
     "output_type": "stream",
     "text": [
      "('course', 'Python')\n",
      "('n_lessons', 122)\n"
     ]
    }
   ],
   "source": [
    "'''Некоторые методы являются композициями циклов. И возможно уже есть \n",
    "готовые решения'''\n",
    "for i in my_dict.items():\n",
    "    print(i)"
   ]
  },
  {
   "cell_type": "code",
   "execution_count": 9,
   "id": "20449794",
   "metadata": {},
   "outputs": [],
   "source": [
    "#Объявление переменных\n",
    "a = 123"
   ]
  },
  {
   "cell_type": "code",
   "execution_count": 11,
   "id": "6df43ebf",
   "metadata": {
    "scrolled": true
   },
   "outputs": [
    {
     "name": "stdout",
     "output_type": "stream",
     "text": [
      "1\n",
      "2\n",
      "3\n"
     ]
    }
   ],
   "source": [
    "#Циклы для чисел. TypeError: 'int' object is not iterable\n",
    "for i in str(a):\n",
    "    print(int(i))"
   ]
  },
  {
   "cell_type": "markdown",
   "id": "81146942",
   "metadata": {},
   "source": [
    "# Лекция 2\n",
    "## List comprehension\n",
    "\n",
    "List comprehension в Python - это компактный способ создания нового списка на основе существующего списка или другой итерируемой последовательности, например, строки. Он позволяет более элегантно и кратко написать код, делая его читаемее и эффективнее.\n",
    "\n",
    "Общий синтаксис для создания list comprehension выглядит следующим образом:\n",
    "\n",
    "new_list = [expression for item in iterable if condition]\n",
    "\n",
    "\n",
    "где:\n",
    "\n",
    "expression - выражение, которое будет применяться к каждому элементу исходного списка или последовательности- item - переменная, представляющая текущий элемент итерируемой последовательности\n",
    "iterable - исходный список или другая итерируемая последовательность\n",
    "condition (необязательно) - условие, по которому будет фильтроваться исходная последовательность."
   ]
  },
  {
   "cell_type": "code",
   "execution_count": 12,
   "id": "56b90536",
   "metadata": {},
   "outputs": [],
   "source": [
    "#Объявление переменных\n",
    "numbers = [1, 2, 3, 4, 5]"
   ]
  },
  {
   "cell_type": "code",
   "execution_count": 13,
   "id": "7c5c9e96",
   "metadata": {},
   "outputs": [
    {
     "data": {
      "text/plain": [
       "[1, 4, 9, 16, 25]"
      ]
     },
     "execution_count": 13,
     "metadata": {},
     "output_type": "execute_result"
    }
   ],
   "source": [
    "#Получение квадратов чисел\n",
    "squares = [x**2 for x in numbers]\n",
    "squares"
   ]
  },
  {
   "cell_type": "code",
   "execution_count": 15,
   "id": "e36ab99f",
   "metadata": {},
   "outputs": [
    {
     "data": {
      "text/plain": [
       "[2, 4]"
      ]
     },
     "execution_count": 15,
     "metadata": {},
     "output_type": "execute_result"
    }
   ],
   "source": [
    "#Отбор четных чисел из исходного списка\n",
    "even_numbers = [x for x in numbers if x % 2 == 0]\n",
    "even_numbers"
   ]
  },
  {
   "cell_type": "code",
   "execution_count": 16,
   "id": "3645cabf",
   "metadata": {},
   "outputs": [],
   "source": [
    "#Объявление переменных\n",
    "words = [\"hello\", \"world\", \"python\", \"list\"]"
   ]
  },
  {
   "cell_type": "code",
   "execution_count": 18,
   "id": "ec1c8a6f",
   "metadata": {},
   "outputs": [
    {
     "data": {
      "text/plain": [
       "[5, 5, 6, 4]"
      ]
     },
     "execution_count": 18,
     "metadata": {},
     "output_type": "execute_result"
    }
   ],
   "source": [
    "#Создание списка длин слов исходного списке\n",
    "word_lengths = [len(word) for word in words]\n",
    "word_lengths"
   ]
  },
  {
   "cell_type": "markdown",
   "id": "bb6f3a07",
   "metadata": {},
   "source": [
    "# Лекция 3\n",
    "## Операторы Continue и Break"
   ]
  },
  {
   "cell_type": "code",
   "execution_count": 25,
   "id": "0caa0093",
   "metadata": {},
   "outputs": [],
   "source": [
    "#Объявление переменных\n",
    "my_list = ['abc', 'fjd', 'ljd', 'rte', ' dfp', 'ytrf']\n",
    "target_letter = 'p'\n",
    "my_list_2 = {}"
   ]
  },
  {
   "cell_type": "code",
   "execution_count": 27,
   "id": "97906526",
   "metadata": {},
   "outputs": [
    {
     "name": "stdout",
     "output_type": "stream",
     "text": [
      "abc\n",
      "fjd\n",
      "ljd\n",
      "rte\n",
      " dfp\n",
      " dfp\n"
     ]
    }
   ],
   "source": [
    "#Поиск первого вхождения подстроки в элемент списка\n",
    "for s in my_list:\n",
    "    print(s)\n",
    "    if target_letter not in s:\n",
    "        continue\n",
    "    print(s)\n",
    "    break"
   ]
  },
  {
   "cell_type": "code",
   "execution_count": 28,
   "id": "2fe54475",
   "metadata": {},
   "outputs": [
    {
     "name": "stdout",
     "output_type": "stream",
     "text": [
      "0 abc\n",
      "1 fjd\n",
      "2 ljd\n",
      "3 rte\n",
      "4  dfp\n",
      "5 ytrf\n"
     ]
    }
   ],
   "source": [
    "#визуализация итерации\n",
    "for i, s in enumerate(my_list):\n",
    "    print(i, s)"
   ]
  },
  {
   "cell_type": "code",
   "execution_count": null,
   "id": "fcf01cc4",
   "metadata": {},
   "outputs": [],
   "source": [
    " "
   ]
  }
 ],
 "metadata": {
  "kernelspec": {
   "display_name": "Python 3 (ipykernel)",
   "language": "python",
   "name": "python3"
  },
  "language_info": {
   "codemirror_mode": {
    "name": "ipython",
    "version": 3
   },
   "file_extension": ".py",
   "mimetype": "text/x-python",
   "name": "python",
   "nbconvert_exporter": "python",
   "pygments_lexer": "ipython3",
   "version": "3.9.12"
  }
 },
 "nbformat": 4,
 "nbformat_minor": 5
}
