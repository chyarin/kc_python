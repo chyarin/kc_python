{
 "cells": [
  {
   "cell_type": "markdown",
   "id": "1bb87a8e",
   "metadata": {},
   "source": [
    "# Лекция 1"
   ]
  },
  {
   "cell_type": "code",
   "execution_count": 2,
   "id": "59addf3d",
   "metadata": {},
   "outputs": [],
   "source": [
    "#Объявление переменных\n",
    "my_list = [2, 4, 6, 10, 24, 76]\n",
    "my_list_2 = []"
   ]
  },
  {
   "cell_type": "code",
   "execution_count": 3,
   "id": "0e12f4ef",
   "metadata": {},
   "outputs": [
    {
     "name": "stdout",
     "output_type": "stream",
     "text": [
      "[1, 3, 5, 9, 23, 75]\n"
     ]
    }
   ],
   "source": [
    "#Пример 1\n",
    "for i in my_list:\n",
    "    new_element = i - 1\n",
    "    my_list_2.append(new_element)\n",
    "print(my_list_2)"
   ]
  },
  {
   "cell_type": "code",
   "execution_count": 4,
   "id": "4acda859",
   "metadata": {},
   "outputs": [],
   "source": [
    "#Объявление переменных\n",
    "my_list = [2, 4, 6, 10, 24, 76]\n",
    "my_list_2 = []"
   ]
  },
  {
   "cell_type": "code",
   "execution_count": 5,
   "id": "6c0dcfd6",
   "metadata": {},
   "outputs": [
    {
     "name": "stdout",
     "output_type": "stream",
     "text": [
      "[1]\n",
      "[1, 3]\n",
      "[1, 3, 5]\n",
      "[1, 3, 5, 9]\n",
      "[1, 3, 5, 9, 25]\n",
      "[1, 3, 5, 9, 25, 77]\n"
     ]
    }
   ],
   "source": [
    "#Пример 2\n",
    "for i in my_list:\n",
    "    if i > 10:\n",
    "        my_list_2.append(i + 1)\n",
    "    else:\n",
    "        my_list_2.append(i - 1)\n",
    "    print(my_list_2)"
   ]
  },
  {
   "cell_type": "code",
   "execution_count": 10,
   "id": "0fb2309d",
   "metadata": {},
   "outputs": [],
   "source": [
    "#Объявление переменных\n",
    "my_list = [[4, 8], [12, 20], [76, 1, 10]]\n",
    "my_list_2 = []"
   ]
  },
  {
   "cell_type": "code",
   "execution_count": 11,
   "id": "b69abd3b",
   "metadata": {},
   "outputs": [
    {
     "name": "stdout",
     "output_type": "stream",
     "text": [
      "[4, 8, 12, 20, 76, 1, 10]\n"
     ]
    }
   ],
   "source": [
    "#Пример 3 Расшивка вложенного списка\n",
    "for inner_list in my_list:\n",
    "    for j in inner_list:\n",
    "        my_list_2.append(j)\n",
    "print(my_list_2)"
   ]
  },
  {
   "cell_type": "code",
   "execution_count": null,
   "id": "f2b6f63b",
   "metadata": {},
   "outputs": [],
   "source": []
  }
 ],
 "metadata": {
  "kernelspec": {
   "display_name": "Python 3 (ipykernel)",
   "language": "python",
   "name": "python3"
  },
  "language_info": {
   "codemirror_mode": {
    "name": "ipython",
    "version": 3
   },
   "file_extension": ".py",
   "mimetype": "text/x-python",
   "name": "python",
   "nbconvert_exporter": "python",
   "pygments_lexer": "ipython3",
   "version": "3.9.12"
  }
 },
 "nbformat": 4,
 "nbformat_minor": 5
}
