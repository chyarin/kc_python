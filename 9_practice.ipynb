{
 "cells": [
  {
   "cell_type": "code",
   "execution_count": 2,
   "id": "fbd66d3b",
   "metadata": {},
   "outputs": [],
   "source": [
    "import pandas as pd"
   ]
  },
  {
   "cell_type": "code",
   "execution_count": 29,
   "id": "095d22b2",
   "metadata": {},
   "outputs": [
    {
     "data": {
      "text/plain": [
       "[[1, 1, 1, 1, 1],\n",
       " [1, 0, 0, 0, 1],\n",
       " [1, 1, 1, 0, 1],\n",
       " [1, 0, 0, 0, 1],\n",
       " [1, 1, 1, 0, 1]]"
      ]
     },
     "execution_count": 29,
     "metadata": {},
     "output_type": "execute_result"
    }
   ],
   "source": [
    "df = pd.read_csv('city_map1.csv', names=list(range(0, 5, 1)))\n",
    "city_map_list = df.values.tolist()\n",
    "courier_location = (2, 2) # стартовая позиция курьера\n",
    "orders_location = [(4, 4), (0, 0), (0, 3)]\n",
    "city_map_list"
   ]
  },
  {
   "cell_type": "code",
   "execution_count": 27,
   "id": "ec66a8ba",
   "metadata": {},
   "outputs": [
    {
     "data": {
      "text/plain": [
       "0"
      ]
     },
     "execution_count": 27,
     "metadata": {},
     "output_type": "execute_result"
    }
   ],
   "source": [
    "orders_location[0][1]"
   ]
  },
  {
   "cell_type": "code",
   "execution_count": 30,
   "id": "93d4dc6a",
   "metadata": {},
   "outputs": [
    {
     "data": {
      "text/plain": [
       "[(1, 2), (0, 2), (0, 3), (0, 4), (1, 4), (2, 4)]"
      ]
     },
     "execution_count": 30,
     "metadata": {},
     "output_type": "execute_result"
    }
   ],
   "source": [
    "x = courier_location[1]\n",
    "y = courier_location[0]\n",
    "route = []\n",
    "while orders_location:\n",
    "    copy_map_list = city_map_list.copy()\n",
    "    if x < orders_location[0][0] and x + 1 < len(copy_map_list) and copy_map_list[y][x + 1] == 1:\n",
    "        route.append((x + 1, y))\n",
    "        copy_map_list[y][x] = 0\n",
    "        x+=1\n",
    "        if (x, y) in orders_location:\n",
    "            orders_location.remove((x, y))\n",
    "    elif x > orders_location[0][0] and x - 1 >= 0 and copy_map_list[y][x - 1] == 1:\n",
    "        route.append((x - 1, y))\n",
    "        copy_map_list[y][x] = 0\n",
    "        x-=1\n",
    "        if (x, y) in orders_location:\n",
    "            orders_location.remove((x, y))\n",
    "    elif y < orders_location[0][1] and y + 1 < len(copy_map_list) and copy_map_list[y + 1][x] == 1:\n",
    "        route.append((x, y + 1))\n",
    "        copy_map_list[y][x] = 0\n",
    "        y+=1\n",
    "        if (x, y) in orders_location:\n",
    "            orders_location.remove((x, y))\n",
    "    elif y > orders_location[0][1] and y - 1 >= 0 and copy_map_list[y - 1][x] == 1:\n",
    "        route.append((x, y - 1))\n",
    "        copy_map_list[y][x] = 0\n",
    "        y-=1\n",
    "        if (x, y) in orders_location:\n",
    "            orders_location.remove((x, y))\n",
    "    elif x < orders_location[0][0] and x - 1 >= 0 and copy_map_list[y][x - 1] == 1:\n",
    "        route.append((x - 1, y))\n",
    "        copy_map_list[y][x] = 0\n",
    "        x-=1\n",
    "        if (x, y) in orders_location:\n",
    "            orders_location.remove((x, y))\n",
    "    elif x > orders_location[0][0] and x + 1 < len(copy_map_list) and copy_map_list[y][x + 1] == 1:\n",
    "        route.append((x + 1, y))\n",
    "        copy_map_list[y][x] = 0\n",
    "        x+=1\n",
    "        if (x, y) in orders_location:\n",
    "            orders_location.remove((x, y))\n",
    "    elif y < orders_location[0][1] and y - 1 >= 0 and copy_map_list[y - 1][x] == 1:\n",
    "        route.append((x, y - 1))\n",
    "        copy_map_list[y][x] = 0\n",
    "        y-=1\n",
    "        if (x, y) in orders_location:\n",
    "            orders_location.remove((x, y))\n",
    "    elif y > orders_location[0][1] and y + 1 < len(copy_map_list) and copy_map_list[y + 1][x] == 1:\n",
    "        route.append((x, y + 1))\n",
    "        copy_map_list[y][x] = 0\n",
    "        y+=1\n",
    "        if (x, y) in orders_location:\n",
    "            orders_location.remove((x, y))\n",
    "    else:\n",
    "        del(orders_location[0])\n",
    "route"
   ]
  },
  {
   "cell_type": "code",
   "execution_count": 1,
   "id": "3a197500",
   "metadata": {},
   "outputs": [
    {
     "data": {
      "text/plain": [
       "[(0, 0), (0, 3)]"
      ]
     },
     "execution_count": 1,
     "metadata": {},
     "output_type": "execute_result"
    }
   ],
   "source": [
    "courier_location = (26, 26) # стартовая позиция курьера\n",
    "orders_location = [(29, 29), (0, 0), (0, 3)]\n",
    "if (29, 29) in orders_location:\n",
    "    orders_location.remove((29, 29))\n",
    "orders_location"
   ]
  },
  {
   "cell_type": "code",
   "execution_count": 2,
   "id": "6f3f21b0",
   "metadata": {},
   "outputs": [
    {
     "data": {
      "text/plain": [
       "(26, 26)"
      ]
     },
     "execution_count": 2,
     "metadata": {},
     "output_type": "execute_result"
    }
   ],
   "source": [
    "courier_location"
   ]
  },
  {
   "cell_type": "markdown",
   "id": "7dd81473",
   "metadata": {},
   "source": [
    "## git update"
   ]
  },
  {
   "cell_type": "code",
   "execution_count": 3,
   "id": "4f86b844",
   "metadata": {},
   "outputs": [
    {
     "data": {
      "text/plain": [
       "[(0, 0), (0, 3)]"
      ]
     },
     "execution_count": 3,
     "metadata": {},
     "output_type": "execute_result"
    }
   ],
   "source": [
    "orders_location"
   ]
  }
 ],
 "metadata": {
  "kernelspec": {
   "display_name": "Python 3 (ipykernel)",
   "language": "python",
   "name": "python3"
  },
  "language_info": {
   "codemirror_mode": {
    "name": "ipython",
    "version": 3
   },
   "file_extension": ".py",
   "mimetype": "text/x-python",
   "name": "python",
   "nbconvert_exporter": "python",
   "pygments_lexer": "ipython3",
   "version": "3.9.12"
  }
 },
 "nbformat": 4,
 "nbformat_minor": 5
}
