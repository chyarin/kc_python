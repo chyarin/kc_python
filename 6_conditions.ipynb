{
 "cells": [
  {
   "cell_type": "markdown",
   "id": "3d04fb07",
   "metadata": {},
   "source": [
    "## IF"
   ]
  },
  {
   "cell_type": "code",
   "execution_count": 34,
   "id": "4f16534e",
   "metadata": {},
   "outputs": [],
   "source": [
    "score_1 = 65\n",
    "score_2 = 62\n",
    "\n",
    "threshold = 90\n",
    "\n",
    "threshold_last_chance = 70\n",
    "\n",
    "threshold_last_chance_2 = 60\n",
    "\n",
    "student_name = 'Фёдор'"
   ]
  },
  {
   "cell_type": "code",
   "execution_count": 13,
   "id": "5eb769f4",
   "metadata": {
    "scrolled": true
   },
   "outputs": [
    {
     "name": "stdout",
     "output_type": "stream",
     "text": [
      "Студент Фёдор поступил на факультет психологии!\n",
      "Студент Фёдор набрал 85 баллов!\n",
      "Другие студенты ожидают результатов!\n"
     ]
    }
   ],
   "source": [
    "if score_1 > threshold or score_2 > threshold:\n",
    "    print(f'Студент {student_name} поступил на факультет психологии!')\n",
    "    print(f'Студент {student_name} набрал {score} баллов!')\n",
    "print('Другие студенты ожидают результатов!')"
   ]
  },
  {
   "cell_type": "code",
   "execution_count": 14,
   "id": "bb64298b",
   "metadata": {},
   "outputs": [
    {
     "data": {
      "text/plain": [
       "True"
      ]
     },
     "execution_count": 14,
     "metadata": {},
     "output_type": "execute_result"
    }
   ],
   "source": [
    "score_1 > threshold and score_2 > threshold"
   ]
  },
  {
   "cell_type": "markdown",
   "id": "4d9f4e28",
   "metadata": {},
   "source": [
    "## ELIF и ELSE"
   ]
  },
  {
   "cell_type": "code",
   "execution_count": 26,
   "id": "9d26ff74",
   "metadata": {
    "scrolled": true
   },
   "outputs": [
    {
     "name": "stdout",
     "output_type": "stream",
     "text": [
      "Студент Фёдор не поступил на факультет психологии!\n",
      "Баллов не хватило\n",
      "Другие студенты ожидают результатов!\n"
     ]
    }
   ],
   "source": [
    "if score_1 > threshold or score_2 > threshold:\n",
    "    print(f'Студент {student_name} поступил на факультет психологии!')\n",
    "    print(f'Студент {student_name} набрал {score} баллов!')\n",
    "else:\n",
    "    print(f'Студент {student_name} не поступил на факультет психологии!')\n",
    "    print('Баллов не хватило')\n",
    "print('Другие студенты ожидают результатов!')"
   ]
  },
  {
   "cell_type": "code",
   "execution_count": 35,
   "id": "f3df8217",
   "metadata": {
    "scrolled": true
   },
   "outputs": [
    {
     "name": "stdout",
     "output_type": "stream",
     "text": [
      "Студент Фёдор ожидает третьего тура!\n",
      "Другие студенты ожидают результатов!\n"
     ]
    }
   ],
   "source": [
    "if score_1 > threshold or score_2 > threshold:\n",
    "    print(f'Студент {student_name} поступил на факультет психологии!')\n",
    "    print(f'Студент {student_name} набрал {score} баллов!')\n",
    "elif score_1 > threshold_last_chance or score_2 > threshold_last_chance:\n",
    "    print(f'Студент {student_name} ожидает второго тура!')\n",
    "elif score_1 > threshold_last_chance_2 or score_2 > threshold_last_chance_2:\n",
    "    print(f'Студент {student_name} ожидает третьего тура!')\n",
    "else:\n",
    "    print(f'Студент {student_name} не поступил на факультет психологии!')\n",
    "    print('Баллов не хватило')\n",
    "print('Другие студенты ожидают результатов!')"
   ]
  },
  {
   "cell_type": "markdown",
   "id": "ec4a5e8e",
   "metadata": {},
   "source": [
    "## Практика"
   ]
  },
  {
   "cell_type": "code",
   "execution_count": 37,
   "id": "de5f4f7f",
   "metadata": {},
   "outputs": [
    {
     "data": {
      "text/plain": [
       "False"
      ]
     },
     "execution_count": 37,
     "metadata": {},
     "output_type": "execute_result"
    }
   ],
   "source": [
    "#Практика п.1 Урок \"Условия(conditions)\"\n",
    "'''\n",
    "В переменных a и b заданы значения длины и ширины прямоугольника \n",
    "соответственно.  Проверьте, является ли этот прямоугольник квадратом.\n",
    "\n",
    "Сохраните в переменную result значение True, если это квадрат, \n",
    "иначе False\n",
    "'''\n",
    "a = 121 \n",
    "b = 100 \n",
    "result = a == b\n",
    "result"
   ]
  },
  {
   "cell_type": "code",
   "execution_count": 38,
   "id": "4a2cfc1b",
   "metadata": {},
   "outputs": [
    {
     "data": {
      "text/plain": [
       "-3"
      ]
     },
     "execution_count": 38,
     "metadata": {},
     "output_type": "execute_result"
    }
   ],
   "source": [
    "#Практика п.2 Урок \"Условия(conditions)\"\n",
    "'''\n",
    "В переменных a и b заданы два числа. Квадрат какого числа больше? \n",
    "Сохраните это число в result\n",
    "'''\n",
    "a = 2 \n",
    "b = -3 \n",
    "result = -3\n",
    "if a**2 > b**2:\n",
    "    result = a\n",
    "else:\n",
    "    result = b\n",
    "result"
   ]
  },
  {
   "cell_type": "code",
   "execution_count": 40,
   "id": "e0e9e01d",
   "metadata": {},
   "outputs": [
    {
     "data": {
      "text/plain": [
       "False"
      ]
     },
     "execution_count": 40,
     "metadata": {},
     "output_type": "execute_result"
    }
   ],
   "source": [
    "#Практика п.3 Урок \"Условия(conditions)\"\n",
    "'''\n",
    "Катя и Дима решили купить квартиру в Москве. Семейный бюджет ограничен,\n",
    "поэтому им подходят следующие варианты:\n",
    "\n",
    "Стоимость не более 15 млн, площадь не менее 50 квадратных метров, \n",
    "удаленность от метро не более 25 минут пешком\n",
    "\n",
    "Стоимость не более 13 млн, площадь не менее 35 квадратных метров, \n",
    "удаленность от метро не более 5 минут пешком\n",
    "\n",
    "Напишите программу, которая получает на вход стоимость квартиры p, \n",
    "площадь s и удаленность от метро d, и сохраняет в переменную result \n",
    "сообщение о том, подходит квартира или нет в формате True или False\n",
    "'''\n",
    "p = 12950000 #стоимость\n",
    "s = 32 #площадь\n",
    "d = 13 #удаленность от метро\n",
    "if (p <= 15000000 and s >= 50 and d <= 25) or (p <= 13000000 and s >= 35 and d <= 5):\n",
    "    result = True\n",
    "else:\n",
    "    result = False\n",
    "result"
   ]
  },
  {
   "cell_type": "code",
   "execution_count": 41,
   "id": "3d5f624e",
   "metadata": {},
   "outputs": [
    {
     "data": {
      "text/plain": [
       "'Сертификат выдан'"
      ]
     },
     "execution_count": 41,
     "metadata": {},
     "output_type": "execute_result"
    }
   ],
   "source": [
    "#Практика п.4 Урок \"Условия (conditions)\"\n",
    "'''\n",
    "Катя завершила обучение на курсе Hard ML и набрала K баллов за решение\n",
    "задач. Чтобы получить сертификат о прохождении курса, необходимо \n",
    "набрать не менее M баллов. При этом, если Катя набрала от L баллов, \n",
    "то получит сертификат с отличием. \n",
    "\n",
    "Переменные K, M и L уже определены. \n",
    "\n",
    "Напишите программу, которая сохранит в переменную result информацию о \n",
    "результатах прохождения курса в следующем формате:\n",
    "“Недостаточно баллов”, если Кате не хватило баллов для получения \n",
    "сертификата,\n",
    "“Сертификат выдан”, если Катя набрала количество баллов, необходимое \n",
    "для получения сертификата,\n",
    "“Выдан сертификат с отличием” если Катя набрала ≥ L баллов\n",
    "'''\n",
    "#Пример 1\n",
    "K = 121 #количество баллов, полученных Катей\n",
    "M = 100 #количество баллов, необходимое для получения сертификата\n",
    "L = 150 #количество баллов, необходимое для получения сертификата с отличием\n",
    "if K < M:\n",
    "    result = \"Недостаточно баллов\"\n",
    "elif K < L:\n",
    "    result = \"Сертификат выдан\"\n",
    "else:\n",
    "    result = \"Выдан сертификат с отличием\"\n",
    "result"
   ]
  },
  {
   "cell_type": "code",
   "execution_count": 43,
   "id": "2aa71b51",
   "metadata": {},
   "outputs": [
    {
     "data": {
      "text/plain": [
       "300000"
      ]
     },
     "execution_count": 43,
     "metadata": {},
     "output_type": "execute_result"
    }
   ],
   "source": [
    "#Практика п.5 Урок \"Условия(conditions)\"\n",
    "'''\n",
    "Компания решила выплатить сотрудникам премию в размере:\n",
    "\n",
    "2 оклада, если его стаж работы ≥ 2 года\n",
    "5 окладов, если стаж работы ≥ 5 лет\n",
    "10 окладов, если стаж работы ≥ 15 лет\n",
    "В переменной x - зарплата сотрудника, в переменной y -  стаж. \n",
    "Вычислите размер премии, результат сохраните в переменную result\n",
    "'''\n",
    "# Пример 1\n",
    "x = 150000\n",
    "y = 3\n",
    "if y >= 15:\n",
    "    result = x * 10\n",
    "elif y >= 5:\n",
    "    result = x * 5\n",
    "elif y >= 2:\n",
    "    result = x * 2\n",
    "else:\n",
    "    result = 0\n",
    "result"
   ]
  },
  {
   "cell_type": "code",
   "execution_count": 15,
   "id": "d73a3dff",
   "metadata": {},
   "outputs": [
    {
     "ename": "IndexError",
     "evalue": "list index out of range",
     "output_type": "error",
     "traceback": [
      "\u001b[1;31m---------------------------------------------------------------------------\u001b[0m",
      "\u001b[1;31mIndexError\u001b[0m                                Traceback (most recent call last)",
      "Input \u001b[1;32mIn [15]\u001b[0m, in \u001b[0;36m<cell line: 21>\u001b[1;34m()\u001b[0m\n\u001b[0;32m     19\u001b[0m     result_buf \u001b[38;5;241m=\u001b[39m \u001b[38;5;28mlist\u001b[39m(dict_temp\u001b[38;5;241m.\u001b[39mitems())\n\u001b[0;32m     20\u001b[0m     result \u001b[38;5;241m=\u001b[39m result_buf[\u001b[38;5;241m0\u001b[39m][\u001b[38;5;241m1\u001b[39m]\n\u001b[1;32m---> 21\u001b[0m \u001b[38;5;28;43mlist\u001b[39;49m\u001b[43m(\u001b[49m\u001b[43mdict_age\u001b[49m\u001b[38;5;241;43m.\u001b[39;49m\u001b[43mkeys\u001b[49m\u001b[43m(\u001b[49m\u001b[43m)\u001b[49m\u001b[43m)\u001b[49m\u001b[43m[\u001b[49m\u001b[38;5;241;43m9\u001b[39;49m\u001b[43m]\u001b[49m\n",
      "\u001b[1;31mIndexError\u001b[0m: list index out of range"
     ]
    }
   ],
   "source": [
    "#Практика п.6 Урок \"Условия(conditions)\"\n",
    "'''\n",
    "Дан словарь dict_age, в котором хранится информация о возрасте трех \n",
    "братьев в формате:\n",
    "ключ - имя\n",
    "значение - возраст.\n",
    "\n",
    "Сохраните в переменную result_name имя среднего брата\n",
    "'''\n",
    "dict_age = {'Антон': 5, \n",
    "            'Денис': 9, \n",
    "            'Борис': 14}\n",
    "dict_temp = dict(zip(dict_age.values(),dict_age.keys()))\n",
    "dict_temp.pop(max(dict_age.values()))\n",
    "dict_temp.pop(min(dict_age.values()))\n",
    "if len(set(dict_age.values())) == 2:\n",
    "    result = ''\n",
    "else:\n",
    "    result_buf = list(dict_temp.items())\n",
    "    result = result_buf[0][1]\n",
    "list(dict_age.keys())[9]"
   ]
  },
  {
   "cell_type": "code",
   "execution_count": 17,
   "id": "2a364a94",
   "metadata": {},
   "outputs": [
    {
     "data": {
      "text/plain": [
       "2"
      ]
     },
     "execution_count": 17,
     "metadata": {},
     "output_type": "execute_result"
    }
   ],
   "source": [
    "#Практика п.6 Урок \"Условия(conditions)\"\n",
    "'''\n",
    "Дан словарь dict_age, в котором хранится информация о возрасте трех \n",
    "братьев в формате:\n",
    "ключ - имя\n",
    "значение - возраст.\n",
    "\n",
    "Сохраните в переменную result_name имя среднего брата\n",
    "'''\n",
    "dict_age = {'Антон': 5, \n",
    "            'Денис': 14, \n",
    "            'Борис': 9}\n",
    "ages = list(dict_age.values())\n",
    "if len(set(ages)) == 3:\n",
    "    midle_index = ages.index(sorted(ages)[1])\n",
    "    result = list(dict_age.keys())[midle_index]    \n",
    "else:\n",
    "    result = ''\n",
    "midle_index"
   ]
  },
  {
   "cell_type": "code",
   "execution_count": 73,
   "id": "4850aedb",
   "metadata": {},
   "outputs": [
    {
     "data": {
      "text/plain": [
       "True"
      ]
     },
     "execution_count": 73,
     "metadata": {},
     "output_type": "execute_result"
    }
   ],
   "source": [
    "#Практика п.7 Урок \"Условия(conditions)\"\n",
    "'''\n",
    "Напишите программу, которая будет принимать длины сторон треугольника \n",
    "a, b и c, определять, является ли он прямоугольным и сохранять \n",
    "результат проверки в result в формате True или False. \n",
    "\n",
    "Прямоугольный треугольник — это треугольник, в котором один угол \n",
    "прямой (то есть 90 градусов).\n",
    "Самая длинная сторона (гипотенуза) не обязательно будет последним \n",
    "аргументом.\n",
    "Все аргументы будут целыми числами\n",
    "'''\n",
    "a = 3\n",
    "b = 5\n",
    "c = 4\n",
    "if (max(a,b,c))**2 - (min(a,b,c))**2 == (a + b + c - max(a,b,c) - min(a,b,c))**2:\n",
    "    result = True\n",
    "else:\n",
    "    result = False\n",
    "result"
   ]
  },
  {
   "cell_type": "code",
   "execution_count": 74,
   "id": "16dc82c9",
   "metadata": {},
   "outputs": [
    {
     "data": {
      "text/plain": [
       "8"
      ]
     },
     "execution_count": 74,
     "metadata": {},
     "output_type": "execute_result"
    }
   ],
   "source": [
    "#Практика п.8 Урок \"Условия(conditions)\"\n",
    "'''\n",
    "Напишите программу, которая будет высчитывать либо длину окружности, \n",
    "либо периметр квадрата, исходя из переданных аргументов.\n",
    "\n",
    "На вход подаются буква в переменной f и число в переменной v.\n",
    "\n",
    "Буква будет определять геометрическую фигуру:\n",
    "\n",
    "'S' - квадрат\n",
    "'С' - круг\n",
    "Если буквой задан квадрат, то второй аргумент, число v, считается \n",
    "длиной стороны квадрата. В противном случае число считается радиусом \n",
    "круга.\n",
    "\n",
    "Результат сохраните в result\n",
    "\n",
    "Число pi возмите равным 3.14\n",
    "'''\n",
    "f = 'S'\n",
    "v = 2\n",
    "if f == 'S':\n",
    "    result = v * 4\n",
    "else:\n",
    "    result = 2 * 3.14 * v\n",
    "result"
   ]
  }
 ],
 "metadata": {
  "kernelspec": {
   "display_name": "Python 3 (ipykernel)",
   "language": "python",
   "name": "python3"
  },
  "language_info": {
   "codemirror_mode": {
    "name": "ipython",
    "version": 3
   },
   "file_extension": ".py",
   "mimetype": "text/x-python",
   "name": "python",
   "nbconvert_exporter": "python",
   "pygments_lexer": "ipython3",
   "version": "3.9.12"
  }
 },
 "nbformat": 4,
 "nbformat_minor": 5
}
