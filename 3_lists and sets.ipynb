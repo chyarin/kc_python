{
 "cells": [
  {
   "cell_type": "code",
   "execution_count": 6,
   "id": "11706ff0",
   "metadata": {},
   "outputs": [],
   "source": [
    "student_1 = 'Anatoly'\n",
    "student_2 = 'Ivan'\n",
    "student_3 = 'Fedor'\n",
    "\n",
    "student_4 = 'Beslan'\n",
    "student_5 = 'Ivan'\n",
    "student_6 = 'Oksana'"
   ]
  },
  {
   "cell_type": "code",
   "execution_count": 2,
   "id": "b66b2e01",
   "metadata": {},
   "outputs": [],
   "source": [
    "python_students = [student_1, student_2, student_3]"
   ]
  },
  {
   "cell_type": "code",
   "execution_count": 3,
   "id": "60204834",
   "metadata": {},
   "outputs": [
    {
     "data": {
      "text/plain": [
       "['Anatoly', 'Ivan', 'Fedor']"
      ]
     },
     "execution_count": 3,
     "metadata": {},
     "output_type": "execute_result"
    }
   ],
   "source": [
    "python_students"
   ]
  },
  {
   "cell_type": "code",
   "execution_count": 16,
   "id": "c5d832fd",
   "metadata": {},
   "outputs": [],
   "source": [
    "#my_list= [1, 2, 3, 'hi', True]"
   ]
  },
  {
   "cell_type": "code",
   "execution_count": 5,
   "id": "2b747446",
   "metadata": {},
   "outputs": [
    {
     "data": {
      "text/plain": [
       "[1, 2, 3, 'hi', True]"
      ]
     },
     "execution_count": 5,
     "metadata": {},
     "output_type": "execute_result"
    }
   ],
   "source": [
    "my_list"
   ]
  },
  {
   "cell_type": "code",
   "execution_count": 17,
   "id": "26a663e7",
   "metadata": {},
   "outputs": [],
   "source": [
    "my_index = 1"
   ]
  },
  {
   "cell_type": "code",
   "execution_count": 18,
   "id": "14e751ab",
   "metadata": {},
   "outputs": [],
   "source": [
    "start_i = 0\n",
    "end_i = 2"
   ]
  },
  {
   "cell_type": "code",
   "execution_count": 7,
   "id": "fbb7b1bb",
   "metadata": {},
   "outputs": [],
   "source": [
    "sql_students = [student_4, student_5, student_6]"
   ]
  },
  {
   "cell_type": "code",
   "execution_count": 8,
   "id": "b5b241a4",
   "metadata": {},
   "outputs": [
    {
     "data": {
      "text/plain": [
       "['Anatoly', 'Ivan', 'Fedor']"
      ]
     },
     "execution_count": 8,
     "metadata": {},
     "output_type": "execute_result"
    }
   ],
   "source": [
    "python_students"
   ]
  },
  {
   "cell_type": "code",
   "execution_count": 9,
   "id": "0accc46a",
   "metadata": {},
   "outputs": [
    {
     "data": {
      "text/plain": [
       "['Beslan', 'Ivan', 'Oksana']"
      ]
     },
     "execution_count": 9,
     "metadata": {},
     "output_type": "execute_result"
    }
   ],
   "source": [
    "sql_students"
   ]
  },
  {
   "cell_type": "code",
   "execution_count": 20,
   "id": "87742e3e",
   "metadata": {},
   "outputs": [
    {
     "data": {
      "text/plain": [
       "['Anatoly', 'Ivan']"
      ]
     },
     "execution_count": 20,
     "metadata": {},
     "output_type": "execute_result"
    }
   ],
   "source": [
    "python_students[start_i:end_i]"
   ]
  },
  {
   "cell_type": "code",
   "execution_count": 31,
   "id": "ccdda74e",
   "metadata": {},
   "outputs": [],
   "source": [
    "my_list = list(range(50,150))"
   ]
  },
  {
   "cell_type": "code",
   "execution_count": 39,
   "id": "84632d08",
   "metadata": {},
   "outputs": [
    {
     "data": {
      "text/plain": [
       "[60, 59, 58, 57, 56, 55, 54, 53, 52, 51]"
      ]
     },
     "execution_count": 39,
     "metadata": {},
     "output_type": "execute_result"
    }
   ],
   "source": [
    "my_list[10:0:-1]"
   ]
  },
  {
   "cell_type": "code",
   "execution_count": 40,
   "id": "9a166c33",
   "metadata": {},
   "outputs": [
    {
     "data": {
      "text/plain": [
       "[149,\n",
       " 148,\n",
       " 147,\n",
       " 146,\n",
       " 145,\n",
       " 144,\n",
       " 143,\n",
       " 142,\n",
       " 141,\n",
       " 140,\n",
       " 139,\n",
       " 138,\n",
       " 137,\n",
       " 136,\n",
       " 135,\n",
       " 134,\n",
       " 133,\n",
       " 132,\n",
       " 131,\n",
       " 130,\n",
       " 129,\n",
       " 128,\n",
       " 127,\n",
       " 126,\n",
       " 125,\n",
       " 124,\n",
       " 123,\n",
       " 122,\n",
       " 121,\n",
       " 120,\n",
       " 119,\n",
       " 118,\n",
       " 117,\n",
       " 116,\n",
       " 115,\n",
       " 114,\n",
       " 113,\n",
       " 112,\n",
       " 111,\n",
       " 110,\n",
       " 109,\n",
       " 108,\n",
       " 107,\n",
       " 106,\n",
       " 105,\n",
       " 104,\n",
       " 103,\n",
       " 102,\n",
       " 101,\n",
       " 100,\n",
       " 99,\n",
       " 98,\n",
       " 97,\n",
       " 96,\n",
       " 95,\n",
       " 94,\n",
       " 93,\n",
       " 92,\n",
       " 91,\n",
       " 90,\n",
       " 89,\n",
       " 88,\n",
       " 87,\n",
       " 86,\n",
       " 85,\n",
       " 84,\n",
       " 83,\n",
       " 82,\n",
       " 81,\n",
       " 80,\n",
       " 79,\n",
       " 78,\n",
       " 77,\n",
       " 76,\n",
       " 75,\n",
       " 74,\n",
       " 73,\n",
       " 72,\n",
       " 71,\n",
       " 70,\n",
       " 69,\n",
       " 68,\n",
       " 67,\n",
       " 66,\n",
       " 65,\n",
       " 64,\n",
       " 63,\n",
       " 62,\n",
       " 61,\n",
       " 60,\n",
       " 59,\n",
       " 58,\n",
       " 57,\n",
       " 56,\n",
       " 55,\n",
       " 54,\n",
       " 53,\n",
       " 52,\n",
       " 51,\n",
       " 50]"
      ]
     },
     "execution_count": 40,
     "metadata": {},
     "output_type": "execute_result"
    }
   ],
   "source": [
    "my_list[::-1]"
   ]
  },
  {
   "cell_type": "code",
   "execution_count": 41,
   "id": "745cd0e0",
   "metadata": {},
   "outputs": [
    {
     "data": {
      "text/plain": [
       "['Anatoly', 'Ivan', 'Fedor']"
      ]
     },
     "execution_count": 41,
     "metadata": {},
     "output_type": "execute_result"
    }
   ],
   "source": [
    "python_students"
   ]
  },
  {
   "cell_type": "code",
   "execution_count": 42,
   "id": "037186bb",
   "metadata": {},
   "outputs": [],
   "source": [
    "python_students.append('Masha')"
   ]
  },
  {
   "cell_type": "code",
   "execution_count": 43,
   "id": "7b3f221e",
   "metadata": {},
   "outputs": [
    {
     "data": {
      "text/plain": [
       "['Anatoly', 'Ivan', 'Fedor', 'Masha']"
      ]
     },
     "execution_count": 43,
     "metadata": {},
     "output_type": "execute_result"
    }
   ],
   "source": [
    "python_students"
   ]
  },
  {
   "cell_type": "code",
   "execution_count": 44,
   "id": "9f5bed12",
   "metadata": {},
   "outputs": [],
   "source": [
    "python_students.extend(['Igor', 'Daniil'])"
   ]
  },
  {
   "cell_type": "code",
   "execution_count": 45,
   "id": "e7e6e11d",
   "metadata": {},
   "outputs": [
    {
     "data": {
      "text/plain": [
       "['Anatoly', 'Ivan', 'Fedor', 'Masha', 'Igor', 'Daniil']"
      ]
     },
     "execution_count": 45,
     "metadata": {},
     "output_type": "execute_result"
    }
   ],
   "source": [
    "python_students"
   ]
  },
  {
   "cell_type": "code",
   "execution_count": 46,
   "id": "7c150e9b",
   "metadata": {},
   "outputs": [],
   "source": [
    "python_students.extend(sql_students)"
   ]
  },
  {
   "cell_type": "code",
   "execution_count": 47,
   "id": "48b38006",
   "metadata": {},
   "outputs": [
    {
     "data": {
      "text/plain": [
       "['Anatoly',\n",
       " 'Ivan',\n",
       " 'Fedor',\n",
       " 'Masha',\n",
       " 'Igor',\n",
       " 'Daniil',\n",
       " 'Beslan',\n",
       " 'Ivan',\n",
       " 'Oksana']"
      ]
     },
     "execution_count": 47,
     "metadata": {},
     "output_type": "execute_result"
    }
   ],
   "source": [
    "python_students"
   ]
  },
  {
   "cell_type": "code",
   "execution_count": 48,
   "id": "f02e986f",
   "metadata": {},
   "outputs": [],
   "source": [
    "python_students.insert(0, 'Vera')"
   ]
  },
  {
   "cell_type": "code",
   "execution_count": 49,
   "id": "f60f9e40",
   "metadata": {},
   "outputs": [
    {
     "data": {
      "text/plain": [
       "['Vera',\n",
       " 'Anatoly',\n",
       " 'Ivan',\n",
       " 'Fedor',\n",
       " 'Masha',\n",
       " 'Igor',\n",
       " 'Daniil',\n",
       " 'Beslan',\n",
       " 'Ivan',\n",
       " 'Oksana']"
      ]
     },
     "execution_count": 49,
     "metadata": {},
     "output_type": "execute_result"
    }
   ],
   "source": [
    "python_students"
   ]
  },
  {
   "cell_type": "code",
   "execution_count": 50,
   "id": "64831346",
   "metadata": {},
   "outputs": [
    {
     "data": {
      "text/plain": [
       "[['Vera', 'Fedor'],\n",
       " 'Vera',\n",
       " 'Anatoly',\n",
       " 'Ivan',\n",
       " 'Fedor',\n",
       " 'Masha',\n",
       " 'Igor',\n",
       " 'Daniil',\n",
       " 'Beslan',\n",
       " 'Ivan',\n",
       " 'Oksana']"
      ]
     },
     "execution_count": 50,
     "metadata": {},
     "output_type": "execute_result"
    }
   ],
   "source": [
    "python_students.insert(0, ['Vera', 'Fedor'])\n",
    "python_students"
   ]
  },
  {
   "cell_type": "code",
   "execution_count": 51,
   "id": "4db91464",
   "metadata": {},
   "outputs": [
    {
     "data": {
      "text/plain": [
       "['Vera', 'Fedor']"
      ]
     },
     "execution_count": 51,
     "metadata": {},
     "output_type": "execute_result"
    }
   ],
   "source": [
    "python_students.pop(0)"
   ]
  },
  {
   "cell_type": "code",
   "execution_count": 52,
   "id": "b8a8df9d",
   "metadata": {},
   "outputs": [
    {
     "data": {
      "text/plain": [
       "['Vera',\n",
       " 'Anatoly',\n",
       " 'Fedor',\n",
       " 'Masha',\n",
       " 'Igor',\n",
       " 'Daniil',\n",
       " 'Beslan',\n",
       " 'Ivan',\n",
       " 'Oksana']"
      ]
     },
     "execution_count": 52,
     "metadata": {},
     "output_type": "execute_result"
    }
   ],
   "source": [
    "python_students.remove('Ivan')\n",
    "python_students"
   ]
  },
  {
   "cell_type": "code",
   "execution_count": 53,
   "id": "691e9dc8",
   "metadata": {},
   "outputs": [],
   "source": [
    "my_set = {1, 1, 2, 3}"
   ]
  },
  {
   "cell_type": "code",
   "execution_count": 54,
   "id": "06ffd42c",
   "metadata": {},
   "outputs": [],
   "source": [
    "students_set = set(python_students)"
   ]
  },
  {
   "cell_type": "code",
   "execution_count": 55,
   "id": "9af1f40f",
   "metadata": {},
   "outputs": [
    {
     "data": {
      "text/plain": [
       "{1, 2, 3}"
      ]
     },
     "execution_count": 55,
     "metadata": {},
     "output_type": "execute_result"
    }
   ],
   "source": [
    "my_set"
   ]
  },
  {
   "cell_type": "code",
   "execution_count": 56,
   "id": "da1a3cf3",
   "metadata": {},
   "outputs": [
    {
     "data": {
      "text/plain": [
       "{'Anatoly',\n",
       " 'Beslan',\n",
       " 'Daniil',\n",
       " 'Fedor',\n",
       " 'Igor',\n",
       " 'Ivan',\n",
       " 'Masha',\n",
       " 'Oksana',\n",
       " 'Vera'}"
      ]
     },
     "execution_count": 56,
     "metadata": {},
     "output_type": "execute_result"
    }
   ],
   "source": [
    "students_set"
   ]
  },
  {
   "cell_type": "code",
   "execution_count": 57,
   "id": "33af29b8",
   "metadata": {},
   "outputs": [
    {
     "data": {
      "text/plain": [
       "[1, 1, 2]"
      ]
     },
     "execution_count": 57,
     "metadata": {},
     "output_type": "execute_result"
    }
   ],
   "source": [
    "[1, 1, 2]"
   ]
  },
  {
   "cell_type": "code",
   "execution_count": 58,
   "id": "a78b8f43",
   "metadata": {},
   "outputs": [
    {
     "data": {
      "text/plain": [
       "{1, 2}"
      ]
     },
     "execution_count": 58,
     "metadata": {},
     "output_type": "execute_result"
    }
   ],
   "source": [
    "{1, 1, 2}"
   ]
  },
  {
   "cell_type": "code",
   "execution_count": 59,
   "id": "b974f258",
   "metadata": {},
   "outputs": [],
   "source": [
    "python_students_set = set(python_students)\n",
    "sql_students_set = set(sql_students)"
   ]
  },
  {
   "cell_type": "code",
   "execution_count": 60,
   "id": "6f812179",
   "metadata": {},
   "outputs": [
    {
     "data": {
      "text/plain": [
       "{'Anatoly',\n",
       " 'Beslan',\n",
       " 'Daniil',\n",
       " 'Fedor',\n",
       " 'Igor',\n",
       " 'Ivan',\n",
       " 'Masha',\n",
       " 'Oksana',\n",
       " 'Vera'}"
      ]
     },
     "execution_count": 60,
     "metadata": {},
     "output_type": "execute_result"
    }
   ],
   "source": [
    "python_students_set"
   ]
  },
  {
   "cell_type": "code",
   "execution_count": 61,
   "id": "a696dec1",
   "metadata": {},
   "outputs": [
    {
     "data": {
      "text/plain": [
       "{'Beslan', 'Ivan', 'Oksana'}"
      ]
     },
     "execution_count": 61,
     "metadata": {},
     "output_type": "execute_result"
    }
   ],
   "source": [
    "sql_students_set"
   ]
  },
  {
   "cell_type": "code",
   "execution_count": 62,
   "id": "039a0251",
   "metadata": {},
   "outputs": [
    {
     "data": {
      "text/plain": [
       "{'Anatoly', 'Daniil', 'Fedor', 'Igor', 'Masha', 'Vera'}"
      ]
     },
     "execution_count": 62,
     "metadata": {},
     "output_type": "execute_result"
    }
   ],
   "source": [
    "python_students_set.difference(sql_students_set)"
   ]
  },
  {
   "cell_type": "code",
   "execution_count": 63,
   "id": "a4018c27",
   "metadata": {},
   "outputs": [
    {
     "data": {
      "text/plain": [
       "{'Beslan', 'Ivan', 'Oksana'}"
      ]
     },
     "execution_count": 63,
     "metadata": {},
     "output_type": "execute_result"
    }
   ],
   "source": [
    "python_students_set.intersection(sql_students_set)"
   ]
  },
  {
   "cell_type": "code",
   "execution_count": 65,
   "id": "60dfa324",
   "metadata": {},
   "outputs": [],
   "source": [
    "my_list.clear()"
   ]
  },
  {
   "cell_type": "code",
   "execution_count": 74,
   "id": "61052e80",
   "metadata": {},
   "outputs": [
    {
     "name": "stdout",
     "output_type": "stream",
     "text": [
      "1 True [True, 'hi', 3, 2, 1] [1, 3, True]\n"
     ]
    }
   ],
   "source": [
    "#Практика п. 4. Урок \"Списки(list) и множества(set)\"\". \n",
    "my_list = [1, 2, 3, 'hi', True]\n",
    "first_item = my_list[0]\n",
    "last_item = my_list[-1]\n",
    "reversed_list = my_list[::-1]\n",
    "even_items = my_list[::2]\n",
    "print(first_item, last_item, reversed_list, even_items)"
   ]
  },
  {
   "cell_type": "code",
   "execution_count": 78,
   "id": "4ed98807",
   "metadata": {},
   "outputs": [],
   "source": [
    "#Практика п. 5 Урок \"Списки(list) и множества(set)\"\n",
    "'''\n",
    "Задание:\n",
    "\n",
    "В переменную var_1 сохраните список с числами от -100 до 100 включительно с шагом в 1.\n",
    "\n",
    "В переменную var_2 сохраните список с числами от 250 до 0 включительно с шагом в 2.\n",
    "\n",
    "В переменную var_3 сохраните список со всеми нечетными числами от 100 до 200.\n",
    "'''\n",
    "var_1 = list(range(-100, 101))\n",
    "var_2 = list(range(250, -1, -2))\n",
    "var_3 = list(range(101, 200, 2))"
   ]
  },
  {
   "cell_type": "code",
   "execution_count": 155,
   "id": "f35f3752",
   "metadata": {},
   "outputs": [
    {
     "data": {
      "text/plain": [
       "6"
      ]
     },
     "execution_count": 155,
     "metadata": {},
     "output_type": "execute_result"
    }
   ],
   "source": [
    "#Практика п. 6 Урок \"Списки(list) и множества(set)\" New\n",
    "'''\n",
    "В переменных  a и b хранятся числа — начало и конец диапазона. \n",
    "Напишите программу, которая вернет сумму всех чисел из этого \n",
    "диапазона. Сохраните значение в переменную result. \n",
    "'''\n",
    "a = 1\n",
    "b = 3 \n",
    "result = sum(list(range(a, b+1)))\n",
    "result"
   ]
  },
  {
   "cell_type": "code",
   "execution_count": null,
   "id": "172a5cc3",
   "metadata": {},
   "outputs": [],
   "source": [
    "#Практика п. 7 Урок \"Списки(list) и множества(set)\"\n",
    "'''\n",
    "Давайте потренируемся использовать различные методы списков. В переменной my_list сохранен не пустой список, в котором есть число 11. \n",
    "\n",
    "Найдите первый индекс числа 11 в my_list, сохраните индекс в переменную eleven_index.  \n",
    "\n",
    "В переменную ten_count сохраните, сколько раз в списке my_list встречается число 10.\n",
    "'''\n",
    "my_list = [1, 10, 0, 10, 11]\n",
    "eleven_index = my_list.index(11)\n",
    "ten_count = my_list.count(10)"
   ]
  },
  {
   "cell_type": "code",
   "execution_count": 94,
   "id": "f6f4d6c5",
   "metadata": {},
   "outputs": [
    {
     "data": {
      "text/plain": [
       "[1, 7, 4, 6]"
      ]
     },
     "execution_count": 94,
     "metadata": {},
     "output_type": "execute_result"
    }
   ],
   "source": [
    "#Практика п.8 Урок \"Списки(list) и множества(set)\"\n",
    "'''\n",
    "В student_names сохранен список с именами студентов, добавьте в список два имени 'Anatoly' и 'Oksana'.\n",
    "\n",
    "В scores сохранен список из десяти целых числе, удалите из него второй, пятый и последний элемент.\n",
    "\n",
    "В lessons сохранен список с названием уроков, отсортируйте названия уроков в списке по алфавиту.\n",
    "'''\n",
    "student_names = ['Ivan']\n",
    "student_names.extend(['Anatoly', 'Oksana'])\n",
    "scores = [1, 4, 7, 4, 4, 6, 8]\n",
    "scores.pop(-1)\n",
    "scores.pop(4)\n",
    "scores.pop(1)\n",
    "scores\n",
    "#lessons.sort()"
   ]
  },
  {
   "cell_type": "code",
   "execution_count": 95,
   "id": "7c305225",
   "metadata": {},
   "outputs": [
    {
     "data": {
      "text/plain": [
       "('Monday', 'Tuesday', 'Wednesday', 'Thursday', 'Friday', 'Saturday', 'Sunday')"
      ]
     },
     "execution_count": 95,
     "metadata": {},
     "output_type": "execute_result"
    }
   ],
   "source": [
    "#Практика п.10 Урок \"Списки(list) и множества(set)\"\n",
    "'''\n",
    "Создайте кортеж с названиями дней недели и сохраните его в переменную days_of_the_week.\n",
    "'''\n",
    "days_of_the_week = ('Monday', 'Tuesday', 'Wednesday', 'Thursday', 'Friday', 'Saturday', 'Sunday')\n",
    "days_of_the_week"
   ]
  },
  {
   "cell_type": "code",
   "execution_count": 130,
   "id": "95954eec",
   "metadata": {},
   "outputs": [
    {
     "data": {
      "text/plain": [
       "frozenset({3, 5})"
      ]
     },
     "execution_count": 130,
     "metadata": {},
     "output_type": "execute_result"
    }
   ],
   "source": [
    "#Практика п.11 Урок \"Списки(list) и множества(set)\"\n",
    "'''\n",
    "Задание:\n",
    "\n",
    "В переменной numbers_list сохранен список с целыми числами. В списке минимум два разных целых числа.\n",
    "\n",
    "В переменную numbers_list_ordered сохраните все числа из списка numbers_list, отсортированные по убыванию. При этом сам список numbers_list не должен изменяться.\n",
    "\n",
    "В переменную numbers_set сохраните множество из уникальных чисел из списка numbers_list. Дополните это множество следующим целым числом после максимального числа из numbers_list.\n",
    "\n",
    "В переменную numbers_frozenset сохраните неизменяемое множество из всех уникальных чисел из списка numbers_list, кроме минимального числа.\n",
    "'''\n",
    "numbers_list = [1, 5, 3, 3, 5]\n",
    "numbers_list_ordered = sorted(numbers_list, reverse=True)\n",
    "numbers_set = set(numbers_list)\n",
    "numbers_frozenset = frozenset(sorted(set(numbers_list))[1:])\n",
    "numbers_set.add(max(numbers_list) + 1)\n",
    "numbers_frozenset"
   ]
  },
  {
   "cell_type": "code",
   "execution_count": 147,
   "id": "f5bfb8fa",
   "metadata": {},
   "outputs": [
    {
     "data": {
      "text/plain": [
       "5"
      ]
     },
     "execution_count": 147,
     "metadata": {},
     "output_type": "execute_result"
    }
   ],
   "source": [
    "#Практика п.12 Урок \"Списки(list) и множества(set)\"\n",
    "'''\n",
    "Даны два списка list_1 и list_2. Отсортируйте list_1 по возрастанию, а list_2 по убыванию. \n",
    "Объедините list_1 и list_2 в один отсортированный по возрастанию список list_3.  \n",
    "В переменную list_3_len сохраните длину  list_3\n",
    "'''\n",
    "list_1 = [1, 5, 3]\n",
    "list_2 = [2, 8]\n",
    "list_1.sort()\n",
    "list_2.sort(reverse=True)\n",
    "list_3 = (list_1 + list_2)\n",
    "list_3.sort()\n",
    "list_3_len = len(list_3)"
   ]
  },
  {
   "cell_type": "code",
   "execution_count": 149,
   "id": "d29b5bd5",
   "metadata": {},
   "outputs": [
    {
     "data": {
      "text/plain": [
       "{'Americano', 'Chocolate Chip Cookie', 'Flat White', 'Latte'}"
      ]
     },
     "execution_count": 149,
     "metadata": {},
     "output_type": "execute_result"
    }
   ],
   "source": [
    "#Практика п.13 Урок \"Списки(list) и множества(set)\"\n",
    "'''\n",
    "В переменной menu хранится множество всех позиций меню кофейни, \n",
    "а в переменной stop — множество позиций меню кофейни, недоступных для \n",
    "заказа сегодня. Сохраните в переменную menu_today позиции меню, которые \n",
    "доступны для заказа сегодня\n",
    "'''\n",
    "menu = {'White Chocolate Mocha', 'Americano', 'Flat White', 'Latte', \n",
    "        'Blueberry Muffin', 'Chocolate Chip Cookie'}\n",
    "stop = {'White Chocolate Mocha', 'Blueberry Muffin'}\n",
    "\n",
    "menu_today = menu.difference(stop)\n",
    "menu_today"
   ]
  },
  {
   "cell_type": "code",
   "execution_count": 152,
   "id": "e7162171",
   "metadata": {},
   "outputs": [
    {
     "data": {
      "text/plain": [
       "{10, 100}"
      ]
     },
     "execution_count": 152,
     "metadata": {},
     "output_type": "execute_result"
    }
   ],
   "source": [
    "#Практика п.14 Урок \"Списки(list) и множества(set)\"\n",
    "'''\n",
    "В переменной my_set множество (set) из чисел. В переменной to_delete \n",
    "число, которое нужно удалить из my_set, если оно там есть. Если такого \n",
    "числа нет в my_set ничего делать не надо\n",
    "'''\n",
    "my_set = {0, 10, 100}\n",
    "to_delete = 0\n",
    "my_set.remove(to_delete)\n",
    "my_set"
   ]
  },
  {
   "cell_type": "code",
   "execution_count": 157,
   "id": "c3cd99d8",
   "metadata": {},
   "outputs": [
    {
     "data": {
      "text/plain": [
       "{'Василенко Анна',\n",
       " 'Дудочкин Илья',\n",
       " 'Захарова Мария',\n",
       " 'Кравченко Виталий',\n",
       " 'Некрасов Игорь'}"
      ]
     },
     "execution_count": 157,
     "metadata": {},
     "output_type": "execute_result"
    }
   ],
   "source": [
    "#Практика п.15 Урок \"Списки(list) и множества(set)\"\n",
    "'''\n",
    "Задача\n",
    "В students хранится множество студентов it-центра МАИ. Студент, имя \n",
    "которого записано в new_student, перевелся в МАИ из другого института, \n",
    "его имя нужно добавить в students. В переменной churn_student — студент, \n",
    "который хочет перевестись из МАИ в другой институт, его имя нужно \n",
    "убрать из students. \n",
    "'''\n",
    "students = {'Кравченко Виталий', 'Полякова Ольга', 'Некрасов Игорь', 'Дудочкин Илья', 'Захарова Мария'}\n",
    "new_student = 'Василенко Анна'\n",
    "churn_student = 'Полякова Ольга'\n",
    "students.add(new_student)\n",
    "students.discard(churn_student)\n",
    "students"
   ]
  },
  {
   "cell_type": "code",
   "execution_count": 159,
   "id": "6e8ff335",
   "metadata": {},
   "outputs": [
    {
     "data": {
      "text/plain": [
       "{'Ershova Anna', 'Loginov Vladislav'}"
      ]
     },
     "execution_count": 159,
     "metadata": {},
     "output_type": "execute_result"
    }
   ],
   "source": [
    "#Практика п.16 Урок \"Списки(list) и множества(set)\"\n",
    "'''В переменной da_students хранятся имена студентов курса \n",
    "\"Аналитик данных\", а в переменной dv_students — имена студентов курса \n",
    "\"Визуализация данных\". Сохраните в переменную students студентов, \n",
    "которые обучаются на обоих курсах.\n",
    "\n",
    "Порядок элементов в students не имеет значения.'''\n",
    "# студенты курса \"Аналитик данных\"\n",
    "da_students = {'Ivanov Alexander', 'Loginov Vladislav', 'Ershova Anna', 'Korneva Daria'}\n",
    "# студенты курса \"Визуализация данных\"\n",
    "dv_students = {'Ershova Anna', 'Egunov Andrey', 'Ignatov Alexey', 'Loginov Vladislav'}\n",
    "\n",
    "# результат\n",
    "students = da_students.intersection(dv_students)\n",
    "students"
   ]
  },
  {
   "cell_type": "code",
   "execution_count": 168,
   "id": "6823200e",
   "metadata": {},
   "outputs": [
    {
     "data": {
      "text/plain": [
       "False"
      ]
     },
     "execution_count": 168,
     "metadata": {},
     "output_type": "execute_result"
    }
   ],
   "source": [
    "#Практика п.17 Урок \"Списки(list) и множества(set)\"\n",
    "'''В переменной a хранится список целых неотрицательных чисел. \n",
    "Количество чисел четное.\n",
    "Напишите программу, которая будет делить этот список пополам, \n",
    "определять суммы чисел в половинах списка (sum_left и sum_right). \n",
    "Если sum_left равно sum_right, то сохраните в переменную result \n",
    "значение True,  в противном случае — False.'''\n",
    "a = [1, 2, 4, 3]\n",
    "sum_left = sum(a[:len(a) // 2])\n",
    "sum_right = sum(a[len(a) // 2:])\n",
    "result = sum_left==sum_right"
   ]
  },
  {
   "cell_type": "code",
   "execution_count": 180,
   "id": "073acb67",
   "metadata": {},
   "outputs": [
    {
     "data": {
      "text/plain": [
       "[3, 2, 3, 2, 2]"
      ]
     },
     "execution_count": 180,
     "metadata": {},
     "output_type": "execute_result"
    }
   ],
   "source": [
    "#Практика п.18 Урок \"Списки(list) и множества(set)\"\n",
    "'''\n",
    "Даны список целых чисел a и число b. Удалите из a первое \n",
    "и последнее вхождение числа b'''\n",
    "a = [1, 2, 2, 1, 3, 2, 3]\n",
    "b = 1 \n",
    "a.remove(b)\n",
    "a = a[::-1]\n",
    "a.remove(b)\n",
    "a = a[::-1]\n",
    "a"
   ]
  }
 ],
 "metadata": {
  "kernelspec": {
   "display_name": "Python 3 (ipykernel)",
   "language": "python",
   "name": "python3"
  },
  "language_info": {
   "codemirror_mode": {
    "name": "ipython",
    "version": 3
   },
   "file_extension": ".py",
   "mimetype": "text/x-python",
   "name": "python",
   "nbconvert_exporter": "python",
   "pygments_lexer": "ipython3",
   "version": "3.9.12"
  }
 },
 "nbformat": 4,
 "nbformat_minor": 5
}
