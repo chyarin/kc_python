{
 "cells": [
  {
   "cell_type": "code",
   "execution_count": 19,
   "id": "2effac47",
   "metadata": {},
   "outputs": [],
   "source": [
    "my_name = 'Ivan'\n",
    "my_age = 35\n",
    "my_full_age = 35.7\n",
    "like_Python = True"
   ]
  },
  {
   "cell_type": "code",
   "execution_count": 20,
   "id": "12696488",
   "metadata": {},
   "outputs": [
    {
     "name": "stdout",
     "output_type": "stream",
     "text": [
      "Ivan\n",
      "70.7\n"
     ]
    }
   ],
   "source": [
    "print(my_name)\n",
    "print(my_age + my_full_age)"
   ]
  },
  {
   "cell_type": "code",
   "execution_count": 26,
   "id": "91a21a23",
   "metadata": {},
   "outputs": [
    {
     "name": "stdout",
     "output_type": "stream",
     "text": [
      "Ivan\n",
      "35\n"
     ]
    }
   ],
   "source": [
    "if like_Python:\n",
    "    print(my_name)\n",
    "    print(my_age)"
   ]
  },
  {
   "cell_type": "code",
   "execution_count": 29,
   "id": "051cd79a",
   "metadata": {},
   "outputs": [],
   "source": [
    "cat_name = 'Barsik'\n",
    "cat_age = 2\n",
    "is_fluffy = True"
   ]
  },
  {
   "cell_type": "code",
   "execution_count": 52,
   "id": "7db5d688",
   "metadata": {},
   "outputs": [
    {
     "ename": "TypeError",
     "evalue": "'builtin_function_or_method' object is not subscriptable",
     "output_type": "error",
     "traceback": [
      "\u001b[1;31m---------------------------------------------------------------------------\u001b[0m",
      "\u001b[1;31mTypeError\u001b[0m                                 Traceback (most recent call last)",
      "Input \u001b[1;32mIn [52]\u001b[0m, in \u001b[0;36m<cell line: 1>\u001b[1;34m()\u001b[0m\n\u001b[1;32m----> 1\u001b[0m \u001b[38;5;28mprint\u001b[39m(\u001b[38;5;28;43msum\u001b[39;49m\u001b[43m[\u001b[49m\u001b[38;5;28;43mfloat\u001b[39;49m\u001b[43m(\u001b[49m\u001b[43mmy_full_age\u001b[49m\u001b[43m)\u001b[49m\u001b[43m,\u001b[49m\u001b[43m \u001b[49m\u001b[38;5;241;43m0.1\u001b[39;49m\u001b[43m]\u001b[49m)\n",
      "\u001b[1;31mTypeError\u001b[0m: 'builtin_function_or_method' object is not subscriptable"
     ]
    }
   ],
   "source": [
    "print(sum[float(my_full_age), 0.1])"
   ]
  },
  {
   "cell_type": "code",
   "execution_count": 55,
   "id": "fc498b6c",
   "metadata": {},
   "outputs": [
    {
     "name": "stdout",
     "output_type": "stream",
     "text": [
      "10.0\n"
     ]
    }
   ],
   "source": [
    "son_age = 10\n",
    "father_age = 30\n",
    "result = 0\n",
    "while round((son_age + result) * 2, 1) < round(father_age + result, 1):\n",
    "    result = float(result) + 0.1\n",
    "print(round(result,1))\n",
    "\n",
    "a + x = 2 * (b + x)"
   ]
  },
  {
   "cell_type": "code",
   "execution_count": 56,
   "id": "2a7b72de",
   "metadata": {},
   "outputs": [
    {
     "name": "stdout",
     "output_type": "stream",
     "text": [
      "0 2 5\n"
     ]
    }
   ],
   "source": [
    "n = 125\n",
    "hours = n // 3600\n",
    "minutes = (n % 3600) // 60\n",
    "seconds = (n % 60)\n",
    "print(hours, minutes, seconds)"
   ]
  },
  {
   "cell_type": "code",
   "execution_count": 59,
   "id": "8fde7edd",
   "metadata": {},
   "outputs": [
    {
     "name": "stdout",
     "output_type": "stream",
     "text": [
      "19.19\n"
     ]
    }
   ],
   "source": [
    "price_new = 89.99 \n",
    "price_old = 75.50\n",
    "result = round(100 * abs(price_new - price_old) / price_old, 2)\n",
    "print(result)"
   ]
  },
  {
   "cell_type": "code",
   "execution_count": 61,
   "id": "fe517631",
   "metadata": {},
   "outputs": [
    {
     "name": "stdout",
     "output_type": "stream",
     "text": [
      "True\n"
     ]
    }
   ],
   "source": [
    "m = 420\n",
    "optimal_sleep_duration = (420 <= m <= 540)\n",
    "print(optimal_sleep_duration)"
   ]
  },
  {
   "cell_type": "code",
   "execution_count": 64,
   "id": "aee7c225",
   "metadata": {},
   "outputs": [
    {
     "name": "stdout",
     "output_type": "stream",
     "text": [
      "True\n"
     ]
    }
   ],
   "source": [
    "c = bool(False + 1)\n",
    "print(c)"
   ]
  },
  {
   "cell_type": "code",
   "execution_count": 66,
   "id": "7a551d84",
   "metadata": {},
   "outputs": [
    {
     "name": "stdout",
     "output_type": "stream",
     "text": [
      "'Манчестер Юнайтед' - чемпион Англии!\n",
      "2013\n",
      "Hello\n",
      "world!\n",
      "C:\\Users\\user\\Desktop\\file.txt\n",
      "Name:\tJohn\n",
      "It's a beautiful day!\n",
      "It's a beautiful day!\n"
     ]
    }
   ],
   "source": [
    "string1 = '\\'Манчестер Юнайтед\\' - чемпион Англии!\\n2013'\n",
    "print(string1)\n",
    "print(\"Hello\\nworld!\")\n",
    "print(\"C:\\\\Users\\\\user\\\\Desktop\\\\file.txt\")\n",
    "print(\"Name:\\tJohn\")\n",
    "print('It\\'s a beautiful day!')\n",
    "print(\"It's a beautiful day!\") # так тоже можно"
   ]
  },
  {
   "cell_type": "code",
   "execution_count": 67,
   "id": "6eb6cf07",
   "metadata": {},
   "outputs": [
    {
     "name": "stdout",
     "output_type": "stream",
     "text": [
      "* * * *\n",
      "* * * *\n",
      "* * * *\n",
      "* * * *\n"
     ]
    }
   ],
   "source": [
    "square = '* * * *\\n* * * *\\n* * * *\\n* * * *'\n",
    "print(square)"
   ]
  }
 ],
 "metadata": {
  "kernelspec": {
   "display_name": "Python 3 (ipykernel)",
   "language": "python",
   "name": "python3"
  },
  "language_info": {
   "codemirror_mode": {
    "name": "ipython",
    "version": 3
   },
   "file_extension": ".py",
   "mimetype": "text/x-python",
   "name": "python",
   "nbconvert_exporter": "python",
   "pygments_lexer": "ipython3",
   "version": "3.9.12"
  }
 },
 "nbformat": 4,
 "nbformat_minor": 5
}
