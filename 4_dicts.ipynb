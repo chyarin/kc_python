{
 "cells": [
  {
   "cell_type": "code",
   "execution_count": 25,
   "id": "e54b4425",
   "metadata": {},
   "outputs": [],
   "source": [
    "course_info = {'course_name': {'eng': 'python_intro', 'ru': 'Введение в Питон'},\n",
    "              'teacher': 'Anatoly Karpov',\n",
    "              'n_lessons': 10,\n",
    "              'n_students': 10399,\n",
    "              'school_name': 'KarpovCourses'\n",
    "              }"
   ]
  },
  {
   "cell_type": "code",
   "execution_count": 26,
   "id": "09260e49",
   "metadata": {},
   "outputs": [
    {
     "data": {
      "text/plain": [
       "{'course_name': {'eng': 'python_intro', 'ru': 'Введение в Питон'},\n",
       " 'teacher': 'Anatoly Karpov',\n",
       " 'n_lessons': 10,\n",
       " 'n_students': 10399,\n",
       " 'school_name': 'KarpovCourses'}"
      ]
     },
     "execution_count": 26,
     "metadata": {},
     "output_type": "execute_result"
    }
   ],
   "source": [
    "course_info"
   ]
  },
  {
   "cell_type": "code",
   "execution_count": 28,
   "id": "96854ce0",
   "metadata": {},
   "outputs": [
    {
     "data": {
      "text/plain": [
       "'Введение в Питон'"
      ]
     },
     "execution_count": 28,
     "metadata": {},
     "output_type": "execute_result"
    }
   ],
   "source": [
    "course_info['course_name']['ru']"
   ]
  },
  {
   "cell_type": "code",
   "execution_count": 29,
   "id": "19bdca7f",
   "metadata": {},
   "outputs": [],
   "source": [
    "lang_course_name = 'eng'"
   ]
  },
  {
   "cell_type": "code",
   "execution_count": 31,
   "id": "0c7f81e6",
   "metadata": {},
   "outputs": [
    {
     "data": {
      "text/plain": [
       "'python_intro'"
      ]
     },
     "execution_count": 31,
     "metadata": {},
     "output_type": "execute_result"
    }
   ],
   "source": [
    "course_info['course_name'][lang_course_name]"
   ]
  },
  {
   "cell_type": "code",
   "execution_count": 7,
   "id": "11a8124e",
   "metadata": {},
   "outputs": [],
   "source": [
    "course_info['start_date'] = '2023-06-26'"
   ]
  },
  {
   "cell_type": "code",
   "execution_count": 8,
   "id": "3aaaa47f",
   "metadata": {
    "scrolled": true
   },
   "outputs": [
    {
     "data": {
      "text/plain": [
       "{'course_name': 'python_intro',\n",
       " 'teacher': 'Anatoly Karpov',\n",
       " 'n_lessons': 10,\n",
       " 'n_students': 10399,\n",
       " 'school_name': 'KarpovCourses',\n",
       " 'start_date': '2023-06-26'}"
      ]
     },
     "execution_count": 8,
     "metadata": {},
     "output_type": "execute_result"
    }
   ],
   "source": [
    "course_info"
   ]
  },
  {
   "cell_type": "code",
   "execution_count": 11,
   "id": "c4585616",
   "metadata": {},
   "outputs": [],
   "source": [
    "my_keys = list(course_info.keys())"
   ]
  },
  {
   "cell_type": "code",
   "execution_count": 12,
   "id": "6ecfcaf0",
   "metadata": {},
   "outputs": [
    {
     "data": {
      "text/plain": [
       "['course_name',\n",
       " 'teacher',\n",
       " 'n_lessons',\n",
       " 'n_students',\n",
       " 'school_name',\n",
       " 'start_date']"
      ]
     },
     "execution_count": 12,
     "metadata": {},
     "output_type": "execute_result"
    }
   ],
   "source": [
    "my_keys"
   ]
  },
  {
   "cell_type": "code",
   "execution_count": 13,
   "id": "0ed9625f",
   "metadata": {},
   "outputs": [
    {
     "data": {
      "text/plain": [
       "dict_values(['python_intro', 'Anatoly Karpov', 10, 10399, 'KarpovCourses', '2023-06-26'])"
      ]
     },
     "execution_count": 13,
     "metadata": {},
     "output_type": "execute_result"
    }
   ],
   "source": [
    "course_info.values()"
   ]
  },
  {
   "cell_type": "code",
   "execution_count": 14,
   "id": "d48ce8e7",
   "metadata": {},
   "outputs": [
    {
     "data": {
      "text/plain": [
       "['python_intro', 'Anatoly Karpov', 10, 10399, 'KarpovCourses', '2023-06-26']"
      ]
     },
     "execution_count": 14,
     "metadata": {},
     "output_type": "execute_result"
    }
   ],
   "source": [
    "my_values = list(course_info.values())\n",
    "my_values"
   ]
  },
  {
   "cell_type": "code",
   "execution_count": 15,
   "id": "2201aad4",
   "metadata": {},
   "outputs": [
    {
     "data": {
      "text/plain": [
       "dict_items([('course_name', 'python_intro'), ('teacher', 'Anatoly Karpov'), ('n_lessons', 10), ('n_students', 10399), ('school_name', 'KarpovCourses'), ('start_date', '2023-06-26')])"
      ]
     },
     "execution_count": 15,
     "metadata": {},
     "output_type": "execute_result"
    }
   ],
   "source": [
    "course_info.items()"
   ]
  },
  {
   "cell_type": "code",
   "execution_count": 16,
   "id": "835a1688",
   "metadata": {},
   "outputs": [
    {
     "data": {
      "text/plain": [
       "[('course_name', 'python_intro'),\n",
       " ('teacher', 'Anatoly Karpov'),\n",
       " ('n_lessons', 10),\n",
       " ('n_students', 10399),\n",
       " ('school_name', 'KarpovCourses'),\n",
       " ('start_date', '2023-06-26')]"
      ]
     },
     "execution_count": 16,
     "metadata": {},
     "output_type": "execute_result"
    }
   ],
   "source": [
    "my_items = list(course_info.items())\n",
    "my_items"
   ]
  },
  {
   "cell_type": "code",
   "execution_count": 20,
   "id": "0d890d0a",
   "metadata": {},
   "outputs": [],
   "source": [
    "course_info.get('courseame')"
   ]
  },
  {
   "cell_type": "code",
   "execution_count": 35,
   "id": "ebe94201",
   "metadata": {},
   "outputs": [
    {
     "data": {
      "text/plain": [
       "{'Москва': 11.98, 'Париж': 2.16, 'Токио': 13.96}"
      ]
     },
     "execution_count": 35,
     "metadata": {},
     "output_type": "execute_result"
    }
   ],
   "source": [
    "#Практика п.3 Урок \"Словари (dictionaries)\"\n",
    "'''\n",
    "В переменную cities_population сохраните словарь с тремя ключами: \n",
    "'Москва', 'Париж', 'Токио'. В качестве значений сохраните населедение \n",
    "этих городов в млн. человек: 11.98, 2.16, 13.96. Таким образом ключами \n",
    "нашего словаря будут строки, значениями числа в формате float.\n",
    "'''\n",
    "cities_population = dict([('Москва', 11.98), ('Париж', 2.16), \n",
    "                          ('Токио', 13.96)])\n",
    "cities_population"
   ]
  },
  {
   "cell_type": "code",
   "execution_count": 45,
   "id": "cce449ca",
   "metadata": {},
   "outputs": [
    {
     "data": {
      "text/plain": [
       "{11: '1', 22: '2', 33: '3'}"
      ]
     },
     "execution_count": 45,
     "metadata": {},
     "output_type": "execute_result"
    }
   ],
   "source": [
    "#Практика п.4 Урок \"Словари(dictionaries)\"\n",
    "'''\n",
    "Дан словарь dict_input. Поменяйте ключи и значения местами. \n",
    "Результат сохраните в result\n",
    "'''\n",
    "dict_input = {\"1\": 11, \"2\": 22, \"3\": 33}\n",
    "result = dict(zip(dict_input.values(), dict_input.keys()))\n",
    "result"
   ]
  },
  {
   "cell_type": "code",
   "execution_count": 50,
   "id": "2451441c",
   "metadata": {},
   "outputs": [
    {
     "data": {
      "text/plain": [
       "32411.0"
      ]
     },
     "execution_count": 50,
     "metadata": {},
     "output_type": "execute_result"
    }
   ],
   "source": [
    "#Практика п.5 Урок \"Словари (dictionaries)\"\n",
    "'''\n",
    "Катя - владелец небольшого кондитерского производства, на котором \n",
    "изготавливаются эклеры. \n",
    "У нас  есть словарь data, в котором содержится информация о \n",
    "себестоимости единицы товара cost_price, продажную цену sell_price\n",
    "и количество товара eclairs. \n",
    "Нужно посчитать, какую прибыль Катя получает после продажи своей \n",
    "продукции. Результат сохраните в переменную result, округлив сумму \n",
    "до целого числа\n",
    "'''\n",
    "data = {\n",
    "  \"cost_price\": 225.89,\n",
    "  \"sell_price\": 550.00,\n",
    "  \"eclairs\": 100\n",
    "}\n",
    "result = round((data['sell_price'] - data['cost_price']) * data['eclairs'], 0)\n",
    "result"
   ]
  },
  {
   "cell_type": "code",
   "execution_count": 56,
   "id": "9a0a1263",
   "metadata": {},
   "outputs": [
    {
     "data": {
      "text/plain": [
       "{'name': 'Igor', 'max_note': 5}"
      ]
     },
     "execution_count": 56,
     "metadata": {},
     "output_type": "execute_result"
    }
   ],
   "source": [
    "#Практика п.6 Урок \"Словари (dictionaries)\"\n",
    "'''\n",
    "Есть словарь  student, в котором хранятся имя студента и список его \n",
    "оценок. В result сохраните словарь с именем студента и самой высокой \n",
    "его оценкой\n",
    "'''\n",
    "student = {\"name\": \"Igor\", \"notes\": [4, 5, 4]}\n",
    "result = {\"name\": student['name'], \"max_note\": max(student['notes'])}\n",
    "result"
   ]
  },
  {
   "cell_type": "code",
   "execution_count": 59,
   "id": "0cd083f5",
   "metadata": {},
   "outputs": [
    {
     "data": {
      "text/plain": [
       "87"
      ]
     },
     "execution_count": 59,
     "metadata": {},
     "output_type": "execute_result"
    }
   ],
   "source": [
    "#Практика п.7 Урок \"Словари (dictionaries)\"\n",
    "'''\n",
    "Антон учится в karpov.courses. В словаре anton_courses хранится \n",
    "информация о завершенных им курсах и количстве набранных баллов. Данные \n",
    "в словаре хранятся в формате ключ - название курса, значение - количество \n",
    "баллов в числовом формате. \n",
    "Антон завершил обучение на курсе HardML и набрал 120 баллов. Добавьте в \n",
    "словарь anton_courses эту информацию. \n",
    "В переменную courses сохраните список пройденных курсов. \n",
    "В переменную StartML сохраните количество баллов, набранное Антоном на \n",
    "одноименном курсе, эта информация есть в словаре.\n",
    "'''\n",
    "anton_courses = {'SimulatorAnalyst': 56, \n",
    "                 'StartML': 87, \n",
    "                 'DataAnalyst': 140}\n",
    "# -> \n",
    "anton_courses['HardML'] = 120\n",
    "courses = list(anton_courses.keys())\n",
    "StartML = anton_courses['StartML']"
   ]
  },
  {
   "cell_type": "code",
   "execution_count": 70,
   "id": "ff181e24",
   "metadata": {},
   "outputs": [
    {
     "name": "stdout",
     "output_type": "stream",
     "text": [
      "{'2358241350-50': 1, '2358000350-30': 24, '2358241350-00': 3, '2358241350-60': 10}\n"
     ]
    }
   ],
   "source": [
    "#Практика п.8 Урок \"Словари (dictionaries)\"\n",
    "'''\n",
    "У нас есть магазин одежды LARA. В словаре shop_stock хранится \n",
    "информация о товарах, имеющихся в наличии на складе магазина. \n",
    "Информация указана в формате ключ - артикул товара, значение - \n",
    "количество единиц. \n",
    "В магазин поставили новую партию товаров, в словаре shop_new_goods \n",
    "записана информация о поставленых товарах и их количестве. \n",
    "Создайте словарь result, который будет содержать информацию и о товарах\n",
    "на складе, и о товарах из новой поставки. Известно, что если на складе \n",
    "оставалась хотя бы одна единица  какого-то типа товара, то товара этого \n",
    "типа не было в поставке. \n",
    "'''\n",
    "shop_stock = {\"2358241350-50\": 1, \"2358000350-30\": 24, \"2358241350-00\": 3}\n",
    "shop_new_goods = {\"2358241350-60\": 10}\n",
    "result = shop_stock.copy()\n",
    "result.update(shop_new_goods)\n",
    "print(result)"
   ]
  },
  {
   "cell_type": "code",
   "execution_count": 71,
   "id": "fa5be498",
   "metadata": {},
   "outputs": [
    {
     "data": {
      "text/plain": [
       "18.5"
      ]
     },
     "execution_count": 71,
     "metadata": {},
     "output_type": "execute_result"
    }
   ],
   "source": [
    "#Практика п.9 Урок \"Словари(dictionaries)\"\n",
    "'''\n",
    "Магазин ВкуссЧилл хранит информацию о имеющихся в наличии фруктах \n",
    "и овощах в словаре input_dict в формате ключ - название фрукта или \n",
    "овоща, значение - количество килограмм в наличии. Посчитайте сколько \n",
    "всег килограммов фркутов и овощей имеется в магазине. Результат \n",
    "сохраните в переменную result\n",
    "'''\n",
    "input_dict = {\"морковь\": 10.44, \"капуста\": 5.06, \"клубника\": 3}\n",
    "\n",
    "result = sum(input_dict.values())\n",
    "result"
   ]
  },
  {
   "cell_type": "code",
   "execution_count": 72,
   "id": "a97b8713",
   "metadata": {},
   "outputs": [
    {
     "data": {
      "text/plain": [
       "300000"
      ]
     },
     "execution_count": 72,
     "metadata": {},
     "output_type": "execute_result"
    }
   ],
   "source": [
    "#Практика п.10 Урок \"Словари(dictionaries)\"\n",
    "'''\n",
    "Имеется словарь courses, содержащий информацию о стоимости обучения в karpov.courses в формате:\n",
    "ключ - название курса\n",
    "значение - стоимость обучения\n",
    "\n",
    "Найдите цену самого дорогого курса. Результат сохраните в  result\n",
    "'''\n",
    "courses = {\"Python\": 80000, \"SQL\": 300000}\n",
    "result = max(courses.values())\n",
    "result"
   ]
  },
  {
   "cell_type": "code",
   "execution_count": 73,
   "id": "f0b2771e",
   "metadata": {},
   "outputs": [
    {
     "data": {
      "text/plain": [
       "{'Карпов Анатолий Дмитриевич': 100, 'Иванчей Иван Иванович': 200}"
      ]
     },
     "execution_count": 73,
     "metadata": {},
     "output_type": "execute_result"
    }
   ],
   "source": [
    "#Практика п.11 Урок \"Словари (dictionaries)\"\n",
    "'''\n",
    "В базе данных МАИ информация о студентах и кафедрах, к которым они \n",
    "прикреплены хранится в словаре kaf_sudents в формате: \n",
    "ключ - ФИ студента\n",
    "значение - код кафедры. \n",
    "\n",
    "После второго курса по итогам последних двух сессий был составлен \n",
    "рейтинг студентов, на основе которого произошло перераспределение \n",
    "студентов по кафедрам. Часть студентов продолжила обучение на своей \n",
    "кафедре, а некоторые студенты перешли с одной кафедры на другую. \n",
    "Информация о студентах перешедших на новую кафедру хранится в словаре \n",
    "new_kaf_students. \n",
    "\n",
    "Обновите информацию в словаре kaf_sudents, добабвив в словарь данные \n",
    "из new_kaf_students\n",
    "'''\n",
    "kaf_sudents  = {'Карпов Анатолий Дмитриевич': 100}\n",
    "new_kaf_students =  {'Иванчей Иван Иванович': 200}\n",
    "\n",
    "kaf_sudents.update(new_kaf_students)\n",
    "kaf_sudents"
   ]
  }
 ],
 "metadata": {
  "kernelspec": {
   "display_name": "Python 3 (ipykernel)",
   "language": "python",
   "name": "python3"
  },
  "language_info": {
   "codemirror_mode": {
    "name": "ipython",
    "version": 3
   },
   "file_extension": ".py",
   "mimetype": "text/x-python",
   "name": "python",
   "nbconvert_exporter": "python",
   "pygments_lexer": "ipython3",
   "version": "3.9.12"
  }
 },
 "nbformat": 4,
 "nbformat_minor": 5
}
