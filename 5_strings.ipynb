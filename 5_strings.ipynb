{
 "cells": [
  {
   "cell_type": "markdown",
   "id": "9c69307f",
   "metadata": {},
   "source": [
    "## Лекция Строки. Работа со строками"
   ]
  },
  {
   "cell_type": "code",
   "execution_count": 1,
   "id": "f0936083",
   "metadata": {},
   "outputs": [],
   "source": [
    "name = 'Anatoly Karpov'"
   ]
  },
  {
   "cell_type": "code",
   "execution_count": 2,
   "id": "052bdc91",
   "metadata": {
    "scrolled": true
   },
   "outputs": [
    {
     "data": {
      "text/plain": [
       "'Anatoly Karpov likes Python'"
      ]
     },
     "execution_count": 2,
     "metadata": {},
     "output_type": "execute_result"
    }
   ],
   "source": [
    "name + ' ' + 'likes Python'"
   ]
  },
  {
   "cell_type": "code",
   "execution_count": 3,
   "id": "695224d5",
   "metadata": {
    "scrolled": true
   },
   "outputs": [
    {
     "data": {
      "text/plain": [
       "'A'"
      ]
     },
     "execution_count": 3,
     "metadata": {},
     "output_type": "execute_result"
    }
   ],
   "source": [
    "name[0]"
   ]
  },
  {
   "cell_type": "code",
   "execution_count": 4,
   "id": "687d7c0f",
   "metadata": {},
   "outputs": [
    {
     "data": {
      "text/plain": [
       "'vopraK ylotanA'"
      ]
     },
     "execution_count": 4,
     "metadata": {},
     "output_type": "execute_result"
    }
   ],
   "source": [
    "name[::-1]"
   ]
  },
  {
   "cell_type": "code",
   "execution_count": 5,
   "id": "35e79966",
   "metadata": {},
   "outputs": [
    {
     "data": {
      "text/plain": [
       "'ato'"
      ]
     },
     "execution_count": 5,
     "metadata": {},
     "output_type": "execute_result"
    }
   ],
   "source": [
    "name[2:5]"
   ]
  },
  {
   "cell_type": "code",
   "execution_count": 6,
   "id": "d9f7c13b",
   "metadata": {},
   "outputs": [
    {
     "data": {
      "text/plain": [
       "['A', 'n', 'a', 't', 'o', 'l', 'y', ' ', 'K', 'a', 'r', 'p', 'o', 'v']"
      ]
     },
     "execution_count": 6,
     "metadata": {},
     "output_type": "execute_result"
    }
   ],
   "source": [
    "list(name)"
   ]
  },
  {
   "cell_type": "code",
   "execution_count": 7,
   "id": "49ff7a1f",
   "metadata": {},
   "outputs": [
    {
     "data": {
      "text/plain": [
       "{' ', 'A', 'K', 'a', 'l', 'n', 'o', 'p', 'r', 't', 'v', 'y'}"
      ]
     },
     "execution_count": 7,
     "metadata": {},
     "output_type": "execute_result"
    }
   ],
   "source": [
    "set(name)"
   ]
  },
  {
   "cell_type": "code",
   "execution_count": 8,
   "id": "a0d831cc",
   "metadata": {},
   "outputs": [
    {
     "data": {
      "text/plain": [
       "'anatoly karpov'"
      ]
     },
     "execution_count": 8,
     "metadata": {},
     "output_type": "execute_result"
    }
   ],
   "source": [
    "name.lower()"
   ]
  },
  {
   "cell_type": "code",
   "execution_count": 9,
   "id": "c7deef42",
   "metadata": {},
   "outputs": [
    {
     "data": {
      "text/plain": [
       "'ANATOLY KARPOV'"
      ]
     },
     "execution_count": 9,
     "metadata": {},
     "output_type": "execute_result"
    }
   ],
   "source": [
    "name.upper()"
   ]
  },
  {
   "cell_type": "code",
   "execution_count": 10,
   "id": "368ce40d",
   "metadata": {},
   "outputs": [
    {
     "name": "stdout",
     "output_type": "stream",
     "text": [
      "Anatoly Karpov\n"
     ]
    }
   ],
   "source": [
    "print(name)"
   ]
  },
  {
   "cell_type": "code",
   "execution_count": 11,
   "id": "359969f0",
   "metadata": {},
   "outputs": [
    {
     "data": {
      "text/plain": [
       "'Anatoly Karpov'"
      ]
     },
     "execution_count": 11,
     "metadata": {},
     "output_type": "execute_result"
    }
   ],
   "source": [
    "name"
   ]
  },
  {
   "cell_type": "code",
   "execution_count": 12,
   "id": "c43d225e",
   "metadata": {},
   "outputs": [
    {
     "data": {
      "text/plain": [
       "['Anatoly', 'Karpov']"
      ]
     },
     "execution_count": 12,
     "metadata": {},
     "output_type": "execute_result"
    }
   ],
   "source": [
    "name.split(' ')"
   ]
  },
  {
   "cell_type": "markdown",
   "id": "3406d0ba",
   "metadata": {},
   "source": [
    "## Лекция Строки. Форматирование строк"
   ]
  },
  {
   "cell_type": "code",
   "execution_count": 20,
   "id": "9f3bb83f",
   "metadata": {},
   "outputs": [],
   "source": [
    "course_info = {'course_name': {'eng': 'Python Intro', 'ru': 'Введение в Питон'},\n",
    "              'teacher': 'Anatoly Karpov',\n",
    "              'n_lessons': 10,\n",
    "              'n_students': 10399,\n",
    "              'school_name': 'KarpovCourses',\n",
    "              'start_date': '2023-06-21'\n",
    "              }"
   ]
  },
  {
   "cell_type": "code",
   "execution_count": 14,
   "id": "0af34d0d",
   "metadata": {},
   "outputs": [],
   "source": [
    "greetings_text = '''Hi, !\n",
    "Welcome to the course!\n",
    "The course will start on .\n",
    "'''"
   ]
  },
  {
   "cell_type": "code",
   "execution_count": 15,
   "id": "1979c5b0",
   "metadata": {},
   "outputs": [
    {
     "data": {
      "text/plain": [
       "'Hi, !\\nWelcome to the course!\\nThe course will start on .\\n'"
      ]
     },
     "execution_count": 15,
     "metadata": {},
     "output_type": "execute_result"
    }
   ],
   "source": [
    "greetings_text"
   ]
  },
  {
   "cell_type": "code",
   "execution_count": 16,
   "id": "cee57d6c",
   "metadata": {},
   "outputs": [
    {
     "name": "stdout",
     "output_type": "stream",
     "text": [
      "Hi, !\n",
      "Welcome to the course!\n",
      "The course will start on .\n",
      "\n"
     ]
    }
   ],
   "source": [
    "print(greetings_text)"
   ]
  },
  {
   "cell_type": "code",
   "execution_count": 17,
   "id": "a9968a51",
   "metadata": {},
   "outputs": [
    {
     "name": "stdout",
     "output_type": "stream",
     "text": [
      "Hi, !\n",
      "Welcome to the course!\n",
      "The course will start on .\n",
      "\n"
     ]
    }
   ],
   "source": [
    "print('Hi, !\\nWelcome to the course!\\nThe course will start on .\\n')"
   ]
  },
  {
   "cell_type": "code",
   "execution_count": 28,
   "id": "3b902113",
   "metadata": {},
   "outputs": [],
   "source": [
    "user_name = 'Ivan Chyarin'\n",
    "course_name = course_info['course_name']['eng']\n",
    "start_date = course_info['start_date']\n",
    "n_lesson = course_info['n_lessons']"
   ]
  },
  {
   "cell_type": "code",
   "execution_count": 29,
   "id": "08738588",
   "metadata": {},
   "outputs": [],
   "source": [
    "greetings_text = f'''Hi, {user_name}!\n",
    "Welcome to the course {course_name}!\n",
    "Course contains {n_lesson} lessons.\n",
    "The course will start on {start_date}.\n",
    "'''"
   ]
  },
  {
   "cell_type": "code",
   "execution_count": 30,
   "id": "7b40717b",
   "metadata": {},
   "outputs": [
    {
     "name": "stdout",
     "output_type": "stream",
     "text": [
      "Hi, Ivan Chyarin!\n",
      "Welcome to the course Python Intro!\n",
      "Course contains 10 lessons.\n",
      "The course will start on 2023-06-21.\n",
      "\n"
     ]
    }
   ],
   "source": [
    "print(greetings_text)"
   ]
  },
  {
   "cell_type": "markdown",
   "id": "25a67f39",
   "metadata": {},
   "source": [
    "## Практика"
   ]
  },
  {
   "cell_type": "code",
   "execution_count": 35,
   "id": "f7158ec9",
   "metadata": {},
   "outputs": [
    {
     "data": {
      "text/plain": [
       "False"
      ]
     },
     "execution_count": 35,
     "metadata": {},
     "output_type": "execute_result"
    }
   ],
   "source": [
    "#Практика п. 2 Урок \"Строки(strings)\"\n",
    "'''\n",
    "В переменных str_1 и str_2 сохранены две строки, состоящие из различных\n",
    "букв. Если строки содержат одинаковые буквы, вам нужно сохранить в \n",
    "переменную is_the_same_letters значение True, если буквы в строках \n",
    "отличаются —сохраните в переменную значение False.\n",
    "\n",
    "Мы не учитываем порядок букв, их количество и регистр. Сами переменные \n",
    "уже созданы, начинайте сразу готовить код для работы с ними\n",
    "'''\n",
    "str_1 = 'Aa'\n",
    "str_2 = 'Ab'\n",
    "is_the_same_letters = set(str_1.lower()) == set(str_2.lower())\n",
    "is_the_same_letters"
   ]
  },
  {
   "cell_type": "code",
   "execution_count": 40,
   "id": "4b945fc9",
   "metadata": {},
   "outputs": [
    {
     "data": {
      "text/plain": [
       "14"
      ]
     },
     "execution_count": 40,
     "metadata": {},
     "output_type": "execute_result"
    }
   ],
   "source": [
    "#Практика п.3 Урок \"Строки(Strings)\"\n",
    "'''\n",
    "В переменной x содержится число с десятичной частью но в формате \n",
    "строки. В переменную y сохраните целое число, которое равняется \n",
    "десятичной части чила x\n",
    "'''\n",
    "x = 3.14 \n",
    "y = int(str(x).split('.')[1])\n",
    "y"
   ]
  },
  {
   "cell_type": "code",
   "execution_count": 49,
   "id": "037a4292",
   "metadata": {},
   "outputs": [
    {
     "data": {
      "text/plain": [
       "False"
      ]
     },
     "execution_count": 49,
     "metadata": {},
     "output_type": "execute_result"
    }
   ],
   "source": [
    "#Практика п.4 Урок \"Строки(Strings)\"\n",
    "'''Даны две строки str_1 и str_2. Сохраните в result True, если str_1 \n",
    "является анаграммой str_2, и False в противном случае. \n",
    "Анаграмма — это слово или фраза, образованная путем перестановки букв \n",
    "другого слова или фразы, обычно с использованием всех исходных букв\n",
    "ровно один раз'''\n",
    "str_1 = \"привет\"\n",
    "str_2 = \"приток\"\n",
    "result = sorted(list(str_1)) == sorted(list(str_2))\n",
    "result"
   ]
  },
  {
   "cell_type": "code",
   "execution_count": 63,
   "id": "bb123f46",
   "metadata": {},
   "outputs": [
    {
     "data": {
      "text/plain": [
       "'Я изучаю новый язык программирования.'"
      ]
     },
     "execution_count": 63,
     "metadata": {},
     "output_type": "execute_result"
    }
   ],
   "source": [
    "#Практика п.5 Урок \"Строки(Strings)\"\n",
    "'''\n",
    "В переменную a сохранено некоторое предложение, в котором могут быть \n",
    "добавлены лишние пробелы.  Напишите программу, которая будет убирать \n",
    "из а лишние пробелы и сохранять результат в переменную result. \n",
    "Все слова должны быть разделены одним пробелом, а в начале и конце \n",
    "предложения пробелов быть не должно\n",
    "'''\n",
    "a = \"Я     изучаю   новый язык      программирования.   \"\n",
    "result = ' '.join(a.split())\n",
    "result"
   ]
  },
  {
   "cell_type": "code",
   "execution_count": 68,
   "id": "c0f4bf74",
   "metadata": {},
   "outputs": [
    {
     "name": "stdout",
     "output_type": "stream",
     "text": [
      "<div></div><div></div>\n"
     ]
    }
   ],
   "source": [
    "#Практика п.6 Урок \"Строки(Strings)\"\n",
    "'''\n",
    "Напишите программу, основываясь на вводе и выводе в примерах. Вводом \n",
    "будет строка a. Результат сохраните в result\n",
    "'''\n",
    "a = \"div*2\"\n",
    "result = f\"<{a.split('*')[0]}></{a.split('*')[0]}>\"*int(a.split('*')[1])\n",
    "print(result)"
   ]
  },
  {
   "cell_type": "code",
   "execution_count": 75,
   "id": "b00524df",
   "metadata": {},
   "outputs": [
    {
     "data": {
      "text/plain": [
       "'У дуб зелёный лукоморья'"
      ]
     },
     "execution_count": 75,
     "metadata": {},
     "output_type": "execute_result"
    }
   ],
   "source": [
    "#Практика п.7 Урок \"Строки(Strings)\"\n",
    "'''\n",
    "Напишите программу, которая будет принимать строку из слов и \n",
    "возвращать строку, в которой эти слова будут отсортированы по \n",
    "алфавиту. Исходная строка содержится в переменной x, результат \n",
    "сохраните в result\n",
    "'''\n",
    "x = 'У лукоморья дуб зелёный'\n",
    "result = ' '.join(sorted(x.split(' ')))\n",
    "result"
   ]
  },
  {
   "cell_type": "code",
   "execution_count": 77,
   "id": "e40fb5b6",
   "metadata": {},
   "outputs": [
    {
     "data": {
      "text/plain": [
       "3"
      ]
     },
     "execution_count": 77,
     "metadata": {},
     "output_type": "execute_result"
    }
   ],
   "source": [
    "#Практика п.8 Урок \"Строки(Strings)\"\n",
    "'''\n",
    "Посчитайте, сколько раз в предложении x встречается слово y. Результат \n",
    "сохраните в переменную result\n",
    "'''\n",
    "x = 'На подоконнике в гостиной у бабушки росли цветы, цветы были красные и желтые, очень красивые цветы.'\n",
    "y = 'цветы'\n",
    "result = x.count(y)\n",
    "result"
   ]
  },
  {
   "cell_type": "code",
   "execution_count": 81,
   "id": "03abb026",
   "metadata": {},
   "outputs": [
    {
     "data": {
      "text/plain": [
       "'************5833'"
      ]
     },
     "execution_count": 81,
     "metadata": {},
     "output_type": "execute_result"
    }
   ],
   "source": [
    "#Практика п.9 Урок \"Строки(Strings)\"\n",
    "'''\n",
    "Напишите программу, которая будет принимать номер кредитной карты card \n",
    "и возвращать номер карты, в котором будут видны только последние 4 \n",
    "цифры. Остальные цифры должны заменяться звездочками. Результат \n",
    "сохраните в result\n",
    "'''\n",
    "card = '5468350018455833'\n",
    "result = 12 * '*' + card[-4:]\n",
    "result"
   ]
  },
  {
   "cell_type": "code",
   "execution_count": 82,
   "id": "dc6d3dc1",
   "metadata": {},
   "outputs": [
    {
     "data": {
      "text/plain": [
       "'Я пмню чудне мгнвенье'"
      ]
     },
     "execution_count": 82,
     "metadata": {},
     "output_type": "execute_result"
    }
   ],
   "source": [
    "#Практика п.10 Урок \"Строки(Strings)\"\n",
    "'''\n",
    "В переменной а сохранено предложение. Удалите из предложения все \n",
    "вхождения слова или символа b. Результат сохраните в result\n",
    "'''\n",
    "a = 'Я помню чудное мгновенье'\n",
    "b = 'о'\n",
    "result = a.replace(b, '')\n",
    "result"
   ]
  }
 ],
 "metadata": {
  "kernelspec": {
   "display_name": "Python 3 (ipykernel)",
   "language": "python",
   "name": "python3"
  },
  "language_info": {
   "codemirror_mode": {
    "name": "ipython",
    "version": 3
   },
   "file_extension": ".py",
   "mimetype": "text/x-python",
   "name": "python",
   "nbconvert_exporter": "python",
   "pygments_lexer": "ipython3",
   "version": "3.9.12"
  }
 },
 "nbformat": 4,
 "nbformat_minor": 5
}
